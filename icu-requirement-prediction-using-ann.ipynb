{
 "cells": [
  {
   "cell_type": "markdown",
   "metadata": {
    "papermill": {
     "duration": 0.037797,
     "end_time": "2021-01-14T22:56:57.456021",
     "exception": false,
     "start_time": "2021-01-14T22:56:57.418224",
     "status": "completed"
    },
    "tags": []
   },
   "source": [
    "# ICU Requirement Prediction based on Covid19 patient pre-condition"
   ]
  },
  {
   "cell_type": "code",
   "execution_count": 1,
   "metadata": {
    "execution": {
     "iopub.execute_input": "2021-01-14T22:56:57.535927Z",
     "iopub.status.busy": "2021-01-14T22:56:57.535276Z",
     "iopub.status.idle": "2021-01-14T22:56:58.350439Z",
     "shell.execute_reply": "2021-01-14T22:56:58.349887Z"
    },
    "papermill": {
     "duration": 0.856991,
     "end_time": "2021-01-14T22:56:58.350556",
     "exception": false,
     "start_time": "2021-01-14T22:56:57.493565",
     "status": "completed"
    },
    "tags": []
   },
   "outputs": [],
   "source": [
    "import numpy as np\n",
    "import pandas as pd\n",
    "import matplotlib.pyplot as plt\n",
    "import seaborn as sns"
   ]
  },
  {
   "cell_type": "markdown",
   "metadata": {
    "papermill": {
     "duration": 0.037255,
     "end_time": "2021-01-14T22:56:58.455829",
     "exception": false,
     "start_time": "2021-01-14T22:56:58.418574",
     "status": "completed"
    },
    "tags": []
   },
   "source": [
    "# Load the dataset\n",
    "\n",
    "* The dataset I used is https://www.kaggle.com/tanmoyx/covid19-patient-precondition-dataset"
   ]
  },
  {
   "cell_type": "code",
   "execution_count": 2,
   "metadata": {
    "execution": {
     "iopub.execute_input": "2021-01-14T22:56:58.571324Z",
     "iopub.status.busy": "2021-01-14T22:56:58.570764Z",
     "iopub.status.idle": "2021-01-14T22:57:00.003433Z",
     "shell.execute_reply": "2021-01-14T22:57:00.003866Z"
    },
    "papermill": {
     "duration": 1.479873,
     "end_time": "2021-01-14T22:57:00.003985",
     "exception": false,
     "start_time": "2021-01-14T22:56:58.524112",
     "status": "completed"
    },
    "tags": []
   },
   "outputs": [
    {
     "data": {
      "text/plain": [
       "(566602, 23)"
      ]
     },
     "execution_count": 2,
     "metadata": {},
     "output_type": "execute_result"
    }
   ],
   "source": [
    "df = pd.read_csv('../input/covid19-patient-precondition-dataset/covid.csv')\n",
    "df.shape"
   ]
  },
  {
   "cell_type": "code",
   "execution_count": 3,
   "metadata": {
    "execution": {
     "iopub.execute_input": "2021-01-14T22:57:00.083483Z",
     "iopub.status.busy": "2021-01-14T22:57:00.082929Z",
     "iopub.status.idle": "2021-01-14T22:57:00.088622Z",
     "shell.execute_reply": "2021-01-14T22:57:00.088163Z"
    },
    "papermill": {
     "duration": 0.047022,
     "end_time": "2021-01-14T22:57:00.088705",
     "exception": false,
     "start_time": "2021-01-14T22:57:00.041683",
     "status": "completed"
    },
    "tags": []
   },
   "outputs": [
    {
     "data": {
      "text/plain": [
       "Index(['id', 'sex', 'patient_type', 'entry_date', 'date_symptoms', 'date_died',\n",
       "       'intubed', 'pneumonia', 'age', 'pregnancy', 'diabetes', 'copd',\n",
       "       'asthma', 'inmsupr', 'hypertension', 'other_disease', 'cardiovascular',\n",
       "       'obesity', 'renal_chronic', 'tobacco', 'contact_other_covid',\n",
       "       'covid_res', 'icu'],\n",
       "      dtype='object')"
      ]
     },
     "execution_count": 3,
     "metadata": {},
     "output_type": "execute_result"
    }
   ],
   "source": [
    "df.columns"
   ]
  },
  {
   "cell_type": "code",
   "execution_count": 4,
   "metadata": {
    "execution": {
     "iopub.execute_input": "2021-01-14T22:57:00.167533Z",
     "iopub.status.busy": "2021-01-14T22:57:00.166972Z",
     "iopub.status.idle": "2021-01-14T22:57:00.395502Z",
     "shell.execute_reply": "2021-01-14T22:57:00.396517Z"
    },
    "papermill": {
     "duration": 0.2703,
     "end_time": "2021-01-14T22:57:00.396707",
     "exception": false,
     "start_time": "2021-01-14T22:57:00.126407",
     "status": "completed"
    },
    "tags": []
   },
   "outputs": [
    {
     "name": "stdout",
     "output_type": "stream",
     "text": [
      "Null values present: False\n"
     ]
    }
   ],
   "source": [
    "print('Null values present:',df.isnull().any().any())"
   ]
  },
  {
   "cell_type": "code",
   "execution_count": 5,
   "metadata": {
    "execution": {
     "iopub.execute_input": "2021-01-14T22:57:00.500436Z",
     "iopub.status.busy": "2021-01-14T22:57:00.499438Z",
     "iopub.status.idle": "2021-01-14T22:57:00.752807Z",
     "shell.execute_reply": "2021-01-14T22:57:00.752065Z"
    },
    "papermill": {
     "duration": 0.298161,
     "end_time": "2021-01-14T22:57:00.752947",
     "exception": false,
     "start_time": "2021-01-14T22:57:00.454786",
     "status": "completed"
    },
    "tags": []
   },
   "outputs": [
    {
     "name": "stdout",
     "output_type": "stream",
     "text": [
      "<class 'pandas.core.frame.DataFrame'>\n",
      "RangeIndex: 566602 entries, 0 to 566601\n",
      "Data columns (total 23 columns):\n",
      " #   Column               Non-Null Count   Dtype \n",
      "---  ------               --------------   ----- \n",
      " 0   id                   566602 non-null  object\n",
      " 1   sex                  566602 non-null  int64 \n",
      " 2   patient_type         566602 non-null  int64 \n",
      " 3   entry_date           566602 non-null  object\n",
      " 4   date_symptoms        566602 non-null  object\n",
      " 5   date_died            566602 non-null  object\n",
      " 6   intubed              566602 non-null  int64 \n",
      " 7   pneumonia            566602 non-null  int64 \n",
      " 8   age                  566602 non-null  int64 \n",
      " 9   pregnancy            566602 non-null  int64 \n",
      " 10  diabetes             566602 non-null  int64 \n",
      " 11  copd                 566602 non-null  int64 \n",
      " 12  asthma               566602 non-null  int64 \n",
      " 13  inmsupr              566602 non-null  int64 \n",
      " 14  hypertension         566602 non-null  int64 \n",
      " 15  other_disease        566602 non-null  int64 \n",
      " 16  cardiovascular       566602 non-null  int64 \n",
      " 17  obesity              566602 non-null  int64 \n",
      " 18  renal_chronic        566602 non-null  int64 \n",
      " 19  tobacco              566602 non-null  int64 \n",
      " 20  contact_other_covid  566602 non-null  int64 \n",
      " 21  covid_res            566602 non-null  int64 \n",
      " 22  icu                  566602 non-null  int64 \n",
      "dtypes: int64(19), object(4)\n",
      "memory usage: 99.4+ MB\n"
     ]
    }
   ],
   "source": [
    "df.info()"
   ]
  },
  {
   "cell_type": "code",
   "execution_count": 6,
   "metadata": {
    "execution": {
     "iopub.execute_input": "2021-01-14T22:57:00.852303Z",
     "iopub.status.busy": "2021-01-14T22:57:00.851736Z",
     "iopub.status.idle": "2021-01-14T22:57:00.864373Z",
     "shell.execute_reply": "2021-01-14T22:57:00.864801Z"
    },
    "papermill": {
     "duration": 0.066578,
     "end_time": "2021-01-14T22:57:00.864909",
     "exception": false,
     "start_time": "2021-01-14T22:57:00.798331",
     "status": "completed"
    },
    "tags": []
   },
   "outputs": [
    {
     "data": {
      "text/html": [
       "<div>\n",
       "<style scoped>\n",
       "    .dataframe tbody tr th:only-of-type {\n",
       "        vertical-align: middle;\n",
       "    }\n",
       "\n",
       "    .dataframe tbody tr th {\n",
       "        vertical-align: top;\n",
       "    }\n",
       "\n",
       "    .dataframe thead th {\n",
       "        text-align: right;\n",
       "    }\n",
       "</style>\n",
       "<table border=\"1\" class=\"dataframe\">\n",
       "  <thead>\n",
       "    <tr style=\"text-align: right;\">\n",
       "      <th></th>\n",
       "      <th>id</th>\n",
       "      <th>sex</th>\n",
       "      <th>patient_type</th>\n",
       "      <th>entry_date</th>\n",
       "      <th>date_symptoms</th>\n",
       "      <th>date_died</th>\n",
       "      <th>intubed</th>\n",
       "      <th>pneumonia</th>\n",
       "      <th>age</th>\n",
       "      <th>pregnancy</th>\n",
       "      <th>...</th>\n",
       "      <th>inmsupr</th>\n",
       "      <th>hypertension</th>\n",
       "      <th>other_disease</th>\n",
       "      <th>cardiovascular</th>\n",
       "      <th>obesity</th>\n",
       "      <th>renal_chronic</th>\n",
       "      <th>tobacco</th>\n",
       "      <th>contact_other_covid</th>\n",
       "      <th>covid_res</th>\n",
       "      <th>icu</th>\n",
       "    </tr>\n",
       "  </thead>\n",
       "  <tbody>\n",
       "    <tr>\n",
       "      <th>0</th>\n",
       "      <td>16169f</td>\n",
       "      <td>2</td>\n",
       "      <td>1</td>\n",
       "      <td>04-05-2020</td>\n",
       "      <td>02-05-2020</td>\n",
       "      <td>9999-99-99</td>\n",
       "      <td>97</td>\n",
       "      <td>2</td>\n",
       "      <td>27</td>\n",
       "      <td>97</td>\n",
       "      <td>...</td>\n",
       "      <td>2</td>\n",
       "      <td>2</td>\n",
       "      <td>2</td>\n",
       "      <td>2</td>\n",
       "      <td>2</td>\n",
       "      <td>2</td>\n",
       "      <td>2</td>\n",
       "      <td>2</td>\n",
       "      <td>1</td>\n",
       "      <td>97</td>\n",
       "    </tr>\n",
       "    <tr>\n",
       "      <th>1</th>\n",
       "      <td>1009bf</td>\n",
       "      <td>2</td>\n",
       "      <td>1</td>\n",
       "      <td>19-03-2020</td>\n",
       "      <td>17-03-2020</td>\n",
       "      <td>9999-99-99</td>\n",
       "      <td>97</td>\n",
       "      <td>2</td>\n",
       "      <td>24</td>\n",
       "      <td>97</td>\n",
       "      <td>...</td>\n",
       "      <td>2</td>\n",
       "      <td>2</td>\n",
       "      <td>2</td>\n",
       "      <td>2</td>\n",
       "      <td>2</td>\n",
       "      <td>2</td>\n",
       "      <td>2</td>\n",
       "      <td>99</td>\n",
       "      <td>1</td>\n",
       "      <td>97</td>\n",
       "    </tr>\n",
       "    <tr>\n",
       "      <th>2</th>\n",
       "      <td>167386</td>\n",
       "      <td>1</td>\n",
       "      <td>2</td>\n",
       "      <td>06-04-2020</td>\n",
       "      <td>01-04-2020</td>\n",
       "      <td>9999-99-99</td>\n",
       "      <td>2</td>\n",
       "      <td>2</td>\n",
       "      <td>54</td>\n",
       "      <td>2</td>\n",
       "      <td>...</td>\n",
       "      <td>2</td>\n",
       "      <td>2</td>\n",
       "      <td>2</td>\n",
       "      <td>2</td>\n",
       "      <td>1</td>\n",
       "      <td>2</td>\n",
       "      <td>2</td>\n",
       "      <td>99</td>\n",
       "      <td>1</td>\n",
       "      <td>2</td>\n",
       "    </tr>\n",
       "    <tr>\n",
       "      <th>3</th>\n",
       "      <td>0b5948</td>\n",
       "      <td>2</td>\n",
       "      <td>2</td>\n",
       "      <td>17-04-2020</td>\n",
       "      <td>10-04-2020</td>\n",
       "      <td>9999-99-99</td>\n",
       "      <td>2</td>\n",
       "      <td>1</td>\n",
       "      <td>30</td>\n",
       "      <td>97</td>\n",
       "      <td>...</td>\n",
       "      <td>2</td>\n",
       "      <td>2</td>\n",
       "      <td>2</td>\n",
       "      <td>2</td>\n",
       "      <td>2</td>\n",
       "      <td>2</td>\n",
       "      <td>2</td>\n",
       "      <td>99</td>\n",
       "      <td>1</td>\n",
       "      <td>2</td>\n",
       "    </tr>\n",
       "    <tr>\n",
       "      <th>4</th>\n",
       "      <td>0d01b5</td>\n",
       "      <td>1</td>\n",
       "      <td>2</td>\n",
       "      <td>13-04-2020</td>\n",
       "      <td>13-04-2020</td>\n",
       "      <td>22-04-2020</td>\n",
       "      <td>2</td>\n",
       "      <td>2</td>\n",
       "      <td>60</td>\n",
       "      <td>2</td>\n",
       "      <td>...</td>\n",
       "      <td>2</td>\n",
       "      <td>1</td>\n",
       "      <td>2</td>\n",
       "      <td>1</td>\n",
       "      <td>2</td>\n",
       "      <td>2</td>\n",
       "      <td>2</td>\n",
       "      <td>99</td>\n",
       "      <td>1</td>\n",
       "      <td>2</td>\n",
       "    </tr>\n",
       "  </tbody>\n",
       "</table>\n",
       "<p>5 rows × 23 columns</p>\n",
       "</div>"
      ],
      "text/plain": [
       "       id  sex  patient_type  entry_date date_symptoms   date_died  intubed  \\\n",
       "0  16169f    2             1  04-05-2020    02-05-2020  9999-99-99       97   \n",
       "1  1009bf    2             1  19-03-2020    17-03-2020  9999-99-99       97   \n",
       "2  167386    1             2  06-04-2020    01-04-2020  9999-99-99        2   \n",
       "3  0b5948    2             2  17-04-2020    10-04-2020  9999-99-99        2   \n",
       "4  0d01b5    1             2  13-04-2020    13-04-2020  22-04-2020        2   \n",
       "\n",
       "   pneumonia  age  pregnancy  ...  inmsupr  hypertension  other_disease  \\\n",
       "0          2   27         97  ...        2             2              2   \n",
       "1          2   24         97  ...        2             2              2   \n",
       "2          2   54          2  ...        2             2              2   \n",
       "3          1   30         97  ...        2             2              2   \n",
       "4          2   60          2  ...        2             1              2   \n",
       "\n",
       "   cardiovascular  obesity  renal_chronic  tobacco  contact_other_covid  \\\n",
       "0               2        2              2        2                    2   \n",
       "1               2        2              2        2                   99   \n",
       "2               2        1              2        2                   99   \n",
       "3               2        2              2        2                   99   \n",
       "4               1        2              2        2                   99   \n",
       "\n",
       "   covid_res  icu  \n",
       "0          1   97  \n",
       "1          1   97  \n",
       "2          1    2  \n",
       "3          1    2  \n",
       "4          1    2  \n",
       "\n",
       "[5 rows x 23 columns]"
      ]
     },
     "execution_count": 6,
     "metadata": {},
     "output_type": "execute_result"
    }
   ],
   "source": [
    "df.head()"
   ]
  },
  {
   "cell_type": "markdown",
   "metadata": {
    "papermill": {
     "duration": 0.039048,
     "end_time": "2021-01-14T22:57:00.943730",
     "exception": false,
     "start_time": "2021-01-14T22:57:00.904682",
     "status": "completed"
    },
    "tags": []
   },
   "source": [
    "# Feature Description\n",
    "\n",
    "1. id - The identification number of the patient.\n",
    "2. sex - Identifies the sex of the patient. (Female - 1, Male - 2)\n",
    "3. patient_type - Identifies the type of care received by the patient in the unit. It is called an outpatient if you returned home or it is called an inpatient if you were admitted to hospital. (Outpatient - 1, Inpatient - 2)\n",
    "4. entry_date - Identifies the date of the patient's admission to the care unit.\n",
    "5. date_symptoms - Identifies the date on which the patient's symptoms began.\n",
    "6. date_died - Identifies the date the patient died. (“9999-99-99” stands for recovered)\n",
    "7. intubed - Identifies if the patient required intubation. (Yes - 1, No - 2, Data missing or NA - 97,98,99)\n",
    "8. pneumonia - Identifies if the patient was diagnosed with pneumonia. (Yes - 1, No - 2, Data missing or NA - 97,98,99)\n",
    "9. age - Identifies the age of the patient.\n",
    "10. pregnancy - Identifies if the patient is pregnant. (Yes - 1, No - 2, Data missing or NA - 97,98,99)\n",
    "11. diabetes - Identifies if the patient has a diagnosis of diabetes. (Yes - 1, No - 2, Data missing or NA - 97,98,99)\n",
    "12. copd - Identifies if the patient has a diagnosis of Chronic obstructive pulmonary disease (COPD). (Yes - 1, No - 2, Data missing or NA - 97,98,99)\n",
    "13. asthma - Identifies if the patient has a diagnosis of asthma. (Yes - 1, No - 2, Data missing or NA - 97,98,99)\n",
    "14. inmsupr - Identifies if the patient has immunosuppression (weakened immune system). (Yes - 1, No - 2, Data missing or NA - 97,98,99)\n",
    "15. hypertension - Identifies if the patient has a diagnosis of hypertension. (Yes - 1, No - 2, Data missing or NA - 97,98,99)\n",
    "16. other_disease - Identifies if the patient has a diagnosis of other diseases. (Yes - 1, No - 2, Data missing or NA - 97,98,99)\n",
    "17. cardiovascular - Identifies if the patient has a diagnosis of cardiovascular disease. (Yes - 1, No - 2, Data missing or NA - 97,98,99)\n",
    "18. obesity - Identifies if the patient is diagnosed with obesity. (Yes - 1, No - 2, Data missing or NA - 97,98,99)\n",
    "19. renal_chronic - Identifies if the patient has a diagnosis of chronic kidney failure. (Yes - 1, No - 2, Data missing or NA - 97,98,99)\n",
    "20. tobacco - Identifies if the patient is a tobacco user. (Yes - 1, No - 2, Data missing or NA - 97,98,99)\n",
    "21. contact_other_covid - Identifies if the patient had contact with other Covid19 patient. (Yes - 1, No - 2, Data missing or NA - 97,98,99)\n",
    "22. covid_res - The result of the test. (Positive - 1, Negative - 2, Awaiting Results - 3)\n",
    "23. icu - Identifies if the patient required to enter an Intensive Care Unit. (Yes - 1, No - 2, Data missing or NA - 97,98,99)"
   ]
  },
  {
   "cell_type": "markdown",
   "metadata": {
    "papermill": {
     "duration": 0.038632,
     "end_time": "2021-01-14T22:57:01.021925",
     "exception": false,
     "start_time": "2021-01-14T22:57:00.983293",
     "status": "completed"
    },
    "tags": []
   },
   "source": [
    "# Data Preprocessing\n",
    "\n",
    "* Convert female(1) and male(2) values into female(0) and male(1)\n",
    "* Convert outpatient(1) and inpatient(2) values into outpatient(0) and inpatient(1)\n",
    "* Convert yes(1) and no(2) values into yes(1) and no(0)\n",
    "* Initially convert data missing or na(97,98,99) into 2 and later we will handle these values.\n",
    "* Convert result of the test(Positive - 1, Negative - 2, Awaiting Results - 3) to (Positive - 1, Negative - 0, Awaiting Results - 2)"
   ]
  },
  {
   "cell_type": "code",
   "execution_count": 7,
   "metadata": {
    "execution": {
     "iopub.execute_input": "2021-01-14T22:57:01.108757Z",
     "iopub.status.busy": "2021-01-14T22:57:01.108208Z",
     "iopub.status.idle": "2021-01-14T22:57:01.485629Z",
     "shell.execute_reply": "2021-01-14T22:57:01.486101Z"
    },
    "papermill": {
     "duration": 0.425415,
     "end_time": "2021-01-14T22:57:01.486257",
     "exception": false,
     "start_time": "2021-01-14T22:57:01.060842",
     "status": "completed"
    },
    "tags": []
   },
   "outputs": [],
   "source": [
    "# Convert female(1) and male(2) values into female(0) and male(1)\n",
    "df['sex'].replace([1,2],[0,1],inplace=True)\n",
    "\n",
    "# Convert outpatient(1) and inpatient(2) values into outpatient(0) and inpatient(1)\n",
    "df['patient_type'].replace([1,2],[0,1],inplace=True)\n",
    "\n",
    "# Convert yes(1) and no(2) values into yes(1) and no(0)\n",
    "columns = [\n",
    "    'intubed','pneumonia','pregnancy','diabetes','copd',\n",
    "    'asthma','inmsupr','hypertension','other_disease','cardiovascular',\n",
    "    'obesity','renal_chronic','tobacco','contact_other_covid','icu'\n",
    "]\n",
    "\n",
    "# Initially convert data missing or na(97,98,99) into 2 and later we will handle these values.\n",
    "binary_columns = df[columns].replace(2,0).replace([97,98,99],2)\n",
    "df2 = df.drop(columns,axis=1)\n",
    "df2[columns] = binary_columns\n",
    "df2.reindex(columns=list(df.columns)).head()\n",
    "\n",
    "# Convert result of the test to (Positive - 1, Negative - 0, Awaiting Results - 2)\n",
    "df2['covid_res'].replace([2,3],[0,2],inplace=True)"
   ]
  },
  {
   "cell_type": "markdown",
   "metadata": {
    "papermill": {
     "duration": 0.03971,
     "end_time": "2021-01-14T22:57:01.565703",
     "exception": false,
     "start_time": "2021-01-14T22:57:01.525993",
     "status": "completed"
    },
    "tags": []
   },
   "source": [
    "# Exploratory Data Analysis\n",
    "\n",
    "* Distribution of patients required to undergo ICU\n",
    "* Test result and ICU requirement\n",
    "* Test result and ICU requirement based on sex\n",
    "* Test result and ICU requirement based on patient type\n",
    "* Test result and ICU requirement based on the number of days passed since the symptoms occured\n",
    "* Test result and ICU requirement based on age\n",
    "* ICU requirement on positive patients with other health complications"
   ]
  },
  {
   "cell_type": "markdown",
   "metadata": {
    "papermill": {
     "duration": 0.038874,
     "end_time": "2021-01-14T22:57:01.644131",
     "exception": false,
     "start_time": "2021-01-14T22:57:01.605257",
     "status": "completed"
    },
    "tags": []
   },
   "source": [
    "### Distribution of patients required to undergo ICU"
   ]
  },
  {
   "cell_type": "code",
   "execution_count": 8,
   "metadata": {
    "_kg_hide-input": true,
    "execution": {
     "iopub.execute_input": "2021-01-14T22:57:01.730141Z",
     "iopub.status.busy": "2021-01-14T22:57:01.729549Z",
     "iopub.status.idle": "2021-01-14T22:57:01.891610Z",
     "shell.execute_reply": "2021-01-14T22:57:01.892005Z"
    },
    "papermill": {
     "duration": 0.207437,
     "end_time": "2021-01-14T22:57:01.892127",
     "exception": false,
     "start_time": "2021-01-14T22:57:01.684690",
     "status": "completed"
    },
    "scrolled": false,
    "tags": []
   },
   "outputs": [
    {
     "data": {
      "image/png": "[encoded data removed]",
      "text/plain": [
       "<Figure size 576x432 with 1 Axes>"
      ]
     },
     "metadata": {
      "needs_background": "light"
     },
     "output_type": "display_data"
    }
   ],
   "source": [
    "plt.figure(figsize=(8,6))\n",
    "sns.countplot(x='icu',data=df2)\n",
    "plt.title('Distribution of patients required to undergo ICU')\n",
    "plt.xlabel('Admitted to ICU')\n",
    "plt.ylabel('Count')\n",
    "plt.xticks([0,1,2],['No','Yes','No data'])\n",
    "plt.show()"
   ]
  },
  {
   "cell_type": "markdown",
   "metadata": {
    "papermill": {
     "duration": 0.039698,
     "end_time": "2021-01-14T22:57:01.974405",
     "exception": false,
     "start_time": "2021-01-14T22:57:01.934707",
     "status": "completed"
    },
    "tags": []
   },
   "source": [
    "#### Insight\n",
    "\n",
    "* Most of the data for ICU requirement is missing\n",
    "* There is a low number of patients admitted to ICU\n",
    "* There is an imbalance distribution between yes and no column\n",
    "\n",
    "#### Note\n",
    "\n",
    "- Since the icu feature is our target variable, we can drop rows which indicates missing or no value."
   ]
  },
  {
   "cell_type": "code",
   "execution_count": 9,
   "metadata": {
    "execution": {
     "iopub.execute_input": "2021-01-14T22:57:02.075634Z",
     "iopub.status.busy": "2021-01-14T22:57:02.074760Z",
     "iopub.status.idle": "2021-01-14T22:57:02.108851Z",
     "shell.execute_reply": "2021-01-14T22:57:02.109362Z"
    },
    "papermill": {
     "duration": 0.094515,
     "end_time": "2021-01-14T22:57:02.109494",
     "exception": false,
     "start_time": "2021-01-14T22:57:02.014979",
     "status": "completed"
    },
    "tags": []
   },
   "outputs": [
    {
     "data": {
      "text/plain": [
       "(121788, 23)"
      ]
     },
     "execution_count": 9,
     "metadata": {},
     "output_type": "execute_result"
    }
   ],
   "source": [
    "# dropping missing/no data in icu column\n",
    "\n",
    "df3 = df2[df2['icu'].isin([0,1])]\n",
    "df3.shape"
   ]
  },
  {
   "cell_type": "markdown",
   "metadata": {
    "papermill": {
     "duration": 0.043575,
     "end_time": "2021-01-14T22:57:02.200326",
     "exception": false,
     "start_time": "2021-01-14T22:57:02.156751",
     "status": "completed"
    },
    "tags": []
   },
   "source": [
    "### Test result and ICU requirement"
   ]
  },
  {
   "cell_type": "code",
   "execution_count": 10,
   "metadata": {
    "_kg_hide-input": true,
    "execution": {
     "iopub.execute_input": "2021-01-14T22:57:02.293750Z",
     "iopub.status.busy": "2021-01-14T22:57:02.292845Z",
     "iopub.status.idle": "2021-01-14T22:57:02.463680Z",
     "shell.execute_reply": "2021-01-14T22:57:02.463210Z"
    },
    "papermill": {
     "duration": 0.220928,
     "end_time": "2021-01-14T22:57:02.463778",
     "exception": false,
     "start_time": "2021-01-14T22:57:02.242850",
     "status": "completed"
    },
    "tags": []
   },
   "outputs": [
    {
     "data": {
      "image/png": "[encoded data removed]",
      "text/plain": [
       "<Figure size 576x432 with 1 Axes>"
      ]
     },
     "metadata": {
      "needs_background": "light"
     },
     "output_type": "display_data"
    }
   ],
   "source": [
    "plt.figure(figsize=(8,6))\n",
    "\n",
    "plot = sns.countplot(x='icu',hue='covid_res',data=df3)\n",
    "plot.legend_.set_title('Test result')\n",
    "labels = ['Negative','Positive','Awaiting Results']\n",
    "for text, label in zip(plot.legend_.texts, labels): \n",
    "    text.set_text(label)\n",
    "\n",
    "plt.title('Test result and ICU requirement')\n",
    "plt.xlabel('Admitted to ICU')\n",
    "plt.ylabel('Count')\n",
    "plt.xticks([0,1],['No','Yes'])\n",
    "\n",
    "plt.show()"
   ]
  },
  {
   "cell_type": "markdown",
   "metadata": {
    "papermill": {
     "duration": 0.047016,
     "end_time": "2021-01-14T22:57:02.555386",
     "exception": false,
     "start_time": "2021-01-14T22:57:02.508370",
     "status": "completed"
    },
    "tags": []
   },
   "source": [
    "#### Insight\n",
    "\n",
    "* Most of the covid positive patients are not admitted to ICU\n",
    "* We can also see some patients admitted to ICU even though they are negative in test results. Maybe these patients have different health complications."
   ]
  },
  {
   "cell_type": "markdown",
   "metadata": {
    "papermill": {
     "duration": 0.041124,
     "end_time": "2021-01-14T22:57:02.640408",
     "exception": false,
     "start_time": "2021-01-14T22:57:02.599284",
     "status": "completed"
    },
    "tags": []
   },
   "source": [
    "### Test result and ICU requirement based on sex"
   ]
  },
  {
   "cell_type": "code",
   "execution_count": 11,
   "metadata": {
    "_kg_hide-input": true,
    "execution": {
     "iopub.execute_input": "2021-01-14T22:57:02.761338Z",
     "iopub.status.busy": "2021-01-14T22:57:02.760407Z",
     "iopub.status.idle": "2021-01-14T22:57:03.191465Z",
     "shell.execute_reply": "2021-01-14T22:57:03.192503Z"
    },
    "papermill": {
     "duration": 0.51103,
     "end_time": "2021-01-14T22:57:03.192684",
     "exception": false,
     "start_time": "2021-01-14T22:57:02.681654",
     "status": "completed"
    },
    "scrolled": false,
    "tags": []
   },
   "outputs": [
    {
     "data": {
      "image/png": "[encoded data removed]",
      "text/plain": [
       "<Figure size 1296x432 with 2 Axes>"
      ]
     },
     "metadata": {
      "needs_background": "light"
     },
     "output_type": "display_data"
    }
   ],
   "source": [
    "fig,ax = plt.subplots(ncols=2,figsize=(18,6))\n",
    "\n",
    "data = [df3,df3[df3['covid_res']==1]]\n",
    "features = ['covid_res','icu']\n",
    "titles = ['Test results of patients based on sex','Gender of positive patients admitted to ICU']\n",
    "xlabels = ['Test results','Admitted to ICU']\n",
    "xticklabels = [['Negative','Positive','Awaiting Results'],['No','Yes']]\n",
    "for i in range(2):\n",
    "    plot = sns.countplot(x=features[i],hue='sex',data=data[i],ax=ax[i])\n",
    "    plot.legend_.set_title('Sex')\n",
    "    labels = ['Female','Male']\n",
    "    for text, label in zip(plot.legend_.texts, labels): \n",
    "        text.set_text(label)\n",
    "    ax[i].set_title(titles[i])    \n",
    "    ax[i].set_xlabel(xlabels[i])\n",
    "    ax[i].set_ylabel('Count')\n",
    "    ax[i].set_xticks(range(len(xticklabels[i])))\n",
    "    ax[i].set_xticklabels(xticklabels[i])\n",
    "plt.show()"
   ]
  },
  {
   "cell_type": "markdown",
   "metadata": {
    "papermill": {
     "duration": 0.088331,
     "end_time": "2021-01-14T22:57:03.362972",
     "exception": false,
     "start_time": "2021-01-14T22:57:03.274641",
     "status": "completed"
    },
    "tags": []
   },
   "source": [
    "#### Insight\n",
    "\n",
    "* We can see that male tends to have higher counts in all categories since there are more male patients than female in the dataset.\n",
    "* Based on these graphs and distribution of sex in the dataset, we can see that sex doesn't affect test results and being admitted to ICU."
   ]
  },
  {
   "cell_type": "markdown",
   "metadata": {
    "papermill": {
     "duration": 0.071105,
     "end_time": "2021-01-14T22:57:03.526409",
     "exception": false,
     "start_time": "2021-01-14T22:57:03.455304",
     "status": "completed"
    },
    "tags": []
   },
   "source": [
    "### Test result and ICU requirement based on patient type"
   ]
  },
  {
   "cell_type": "code",
   "execution_count": 12,
   "metadata": {
    "_kg_hide-input": true,
    "execution": {
     "iopub.execute_input": "2021-01-14T22:57:03.694901Z",
     "iopub.status.busy": "2021-01-14T22:57:03.692328Z",
     "iopub.status.idle": "2021-01-14T22:57:03.996569Z",
     "shell.execute_reply": "2021-01-14T22:57:03.997570Z"
    },
    "papermill": {
     "duration": 0.393363,
     "end_time": "2021-01-14T22:57:03.997750",
     "exception": false,
     "start_time": "2021-01-14T22:57:03.604387",
     "status": "completed"
    },
    "tags": []
   },
   "outputs": [
    {
     "data": {
      "image/png": "[encoded data removed]",
      "text/plain": [
       "<Figure size 720x504 with 1 Axes>"
      ]
     },
     "metadata": {
      "needs_background": "light"
     },
     "output_type": "display_data"
    }
   ],
   "source": [
    "plt.figure(figsize=(10,7))\n",
    "\n",
    "plot = sns.countplot(x='icu',hue='patient_type',data=df2)\n",
    "plot.legend_.set_title('Patient type')\n",
    "labels = ['Outpatient','Inpatient']\n",
    "for text, label in zip(plot.legend_.texts, labels): \n",
    "    text.set_text(label)\n",
    "\n",
    "plt.title('Patient type and ICU Requirement')\n",
    "plt.xlabel('Admitted to ICU')\n",
    "plt.ylabel('Count')\n",
    "plt.xticks([0,1,2],['No','Yes','No data'])\n",
    "\n",
    "plt.show()"
   ]
  },
  {
   "cell_type": "code",
   "execution_count": 13,
   "metadata": {
    "execution": {
     "iopub.execute_input": "2021-01-14T22:57:04.151966Z",
     "iopub.status.busy": "2021-01-14T22:57:04.151123Z",
     "iopub.status.idle": "2021-01-14T22:57:04.279341Z",
     "shell.execute_reply": "2021-01-14T22:57:04.279998Z"
    },
    "papermill": {
     "duration": 0.207418,
     "end_time": "2021-01-14T22:57:04.280210",
     "exception": false,
     "start_time": "2021-01-14T22:57:04.072792",
     "status": "completed"
    },
    "tags": []
   },
   "outputs": [
    {
     "name": "stdout",
     "output_type": "stream",
     "text": [
      "Not admitted\n",
      "{'Inpatient': 111676}\n",
      "\n",
      "Admitted\n",
      "{'Inpatient': 10112}\n",
      "\n",
      "No data\n",
      "{'Outpatient': 444689, 'Inpatient': 125}\n",
      "\n"
     ]
    }
   ],
   "source": [
    "icu_status = ['Not admitted','Admitted','No data']\n",
    "\n",
    "for i in range(3):\n",
    "    print(icu_status[i])\n",
    "    print(df2[df2['icu']==i]['patient_type'].value_counts().rename({0:'Outpatient',1:'Inpatient'}).to_dict())\n",
    "    print()"
   ]
  },
  {
   "cell_type": "markdown",
   "metadata": {
    "papermill": {
     "duration": 0.077767,
     "end_time": "2021-01-14T22:57:04.437650",
     "exception": false,
     "start_time": "2021-01-14T22:57:04.359883",
     "status": "completed"
    },
    "tags": []
   },
   "source": [
    "#### Insight\n",
    "\n",
    "* We can see that all outpatient does not have data in icu column which means that all the data that we will be using are  inpatient.\n",
    "\n",
    "#### Note\n",
    "\n",
    "* I used df2 dataframe (missing data are not yet dropped) in constructing the graph.\n",
    "* We can now drop the patient_type feature since all the values are similar"
   ]
  },
  {
   "cell_type": "code",
   "execution_count": 14,
   "metadata": {
    "execution": {
     "iopub.execute_input": "2021-01-14T22:57:04.599133Z",
     "iopub.status.busy": "2021-01-14T22:57:04.598150Z",
     "iopub.status.idle": "2021-01-14T22:57:04.629572Z",
     "shell.execute_reply": "2021-01-14T22:57:04.630186Z"
    },
    "papermill": {
     "duration": 0.117644,
     "end_time": "2021-01-14T22:57:04.630346",
     "exception": false,
     "start_time": "2021-01-14T22:57:04.512702",
     "status": "completed"
    },
    "tags": []
   },
   "outputs": [
    {
     "data": {
      "text/html": [
       "<div>\n",
       "<style scoped>\n",
       "    .dataframe tbody tr th:only-of-type {\n",
       "        vertical-align: middle;\n",
       "    }\n",
       "\n",
       "    .dataframe tbody tr th {\n",
       "        vertical-align: top;\n",
       "    }\n",
       "\n",
       "    .dataframe thead th {\n",
       "        text-align: right;\n",
       "    }\n",
       "</style>\n",
       "<table border=\"1\" class=\"dataframe\">\n",
       "  <thead>\n",
       "    <tr style=\"text-align: right;\">\n",
       "      <th></th>\n",
       "      <th>id</th>\n",
       "      <th>sex</th>\n",
       "      <th>entry_date</th>\n",
       "      <th>date_symptoms</th>\n",
       "      <th>date_died</th>\n",
       "      <th>age</th>\n",
       "      <th>covid_res</th>\n",
       "      <th>intubed</th>\n",
       "      <th>pneumonia</th>\n",
       "      <th>pregnancy</th>\n",
       "      <th>...</th>\n",
       "      <th>asthma</th>\n",
       "      <th>inmsupr</th>\n",
       "      <th>hypertension</th>\n",
       "      <th>other_disease</th>\n",
       "      <th>cardiovascular</th>\n",
       "      <th>obesity</th>\n",
       "      <th>renal_chronic</th>\n",
       "      <th>tobacco</th>\n",
       "      <th>contact_other_covid</th>\n",
       "      <th>icu</th>\n",
       "    </tr>\n",
       "  </thead>\n",
       "  <tbody>\n",
       "    <tr>\n",
       "      <th>2</th>\n",
       "      <td>167386</td>\n",
       "      <td>0</td>\n",
       "      <td>06-04-2020</td>\n",
       "      <td>01-04-2020</td>\n",
       "      <td>9999-99-99</td>\n",
       "      <td>54</td>\n",
       "      <td>1</td>\n",
       "      <td>0</td>\n",
       "      <td>0</td>\n",
       "      <td>0</td>\n",
       "      <td>...</td>\n",
       "      <td>0</td>\n",
       "      <td>0</td>\n",
       "      <td>0</td>\n",
       "      <td>0</td>\n",
       "      <td>0</td>\n",
       "      <td>1</td>\n",
       "      <td>0</td>\n",
       "      <td>0</td>\n",
       "      <td>2</td>\n",
       "      <td>0</td>\n",
       "    </tr>\n",
       "    <tr>\n",
       "      <th>3</th>\n",
       "      <td>0b5948</td>\n",
       "      <td>1</td>\n",
       "      <td>17-04-2020</td>\n",
       "      <td>10-04-2020</td>\n",
       "      <td>9999-99-99</td>\n",
       "      <td>30</td>\n",
       "      <td>1</td>\n",
       "      <td>0</td>\n",
       "      <td>1</td>\n",
       "      <td>2</td>\n",
       "      <td>...</td>\n",
       "      <td>0</td>\n",
       "      <td>0</td>\n",
       "      <td>0</td>\n",
       "      <td>0</td>\n",
       "      <td>0</td>\n",
       "      <td>0</td>\n",
       "      <td>0</td>\n",
       "      <td>0</td>\n",
       "      <td>2</td>\n",
       "      <td>0</td>\n",
       "    </tr>\n",
       "    <tr>\n",
       "      <th>4</th>\n",
       "      <td>0d01b5</td>\n",
       "      <td>0</td>\n",
       "      <td>13-04-2020</td>\n",
       "      <td>13-04-2020</td>\n",
       "      <td>22-04-2020</td>\n",
       "      <td>60</td>\n",
       "      <td>1</td>\n",
       "      <td>0</td>\n",
       "      <td>0</td>\n",
       "      <td>0</td>\n",
       "      <td>...</td>\n",
       "      <td>0</td>\n",
       "      <td>0</td>\n",
       "      <td>1</td>\n",
       "      <td>0</td>\n",
       "      <td>1</td>\n",
       "      <td>0</td>\n",
       "      <td>0</td>\n",
       "      <td>0</td>\n",
       "      <td>2</td>\n",
       "      <td>0</td>\n",
       "    </tr>\n",
       "    <tr>\n",
       "      <th>5</th>\n",
       "      <td>1beec8</td>\n",
       "      <td>1</td>\n",
       "      <td>16-04-2020</td>\n",
       "      <td>16-04-2020</td>\n",
       "      <td>29-04-2020</td>\n",
       "      <td>47</td>\n",
       "      <td>1</td>\n",
       "      <td>0</td>\n",
       "      <td>1</td>\n",
       "      <td>2</td>\n",
       "      <td>...</td>\n",
       "      <td>0</td>\n",
       "      <td>0</td>\n",
       "      <td>0</td>\n",
       "      <td>0</td>\n",
       "      <td>0</td>\n",
       "      <td>0</td>\n",
       "      <td>0</td>\n",
       "      <td>0</td>\n",
       "      <td>2</td>\n",
       "      <td>1</td>\n",
       "    </tr>\n",
       "    <tr>\n",
       "      <th>6</th>\n",
       "      <td>1.75E+56</td>\n",
       "      <td>1</td>\n",
       "      <td>22-04-2020</td>\n",
       "      <td>13-04-2020</td>\n",
       "      <td>9999-99-99</td>\n",
       "      <td>63</td>\n",
       "      <td>1</td>\n",
       "      <td>0</td>\n",
       "      <td>0</td>\n",
       "      <td>2</td>\n",
       "      <td>...</td>\n",
       "      <td>0</td>\n",
       "      <td>0</td>\n",
       "      <td>1</td>\n",
       "      <td>0</td>\n",
       "      <td>0</td>\n",
       "      <td>0</td>\n",
       "      <td>0</td>\n",
       "      <td>0</td>\n",
       "      <td>2</td>\n",
       "      <td>0</td>\n",
       "    </tr>\n",
       "  </tbody>\n",
       "</table>\n",
       "<p>5 rows × 22 columns</p>\n",
       "</div>"
      ],
      "text/plain": [
       "         id  sex  entry_date date_symptoms   date_died  age  covid_res  \\\n",
       "2    167386    0  06-04-2020    01-04-2020  9999-99-99   54          1   \n",
       "3    0b5948    1  17-04-2020    10-04-2020  9999-99-99   30          1   \n",
       "4    0d01b5    0  13-04-2020    13-04-2020  22-04-2020   60          1   \n",
       "5    1beec8    1  16-04-2020    16-04-2020  29-04-2020   47          1   \n",
       "6  1.75E+56    1  22-04-2020    13-04-2020  9999-99-99   63          1   \n",
       "\n",
       "   intubed  pneumonia  pregnancy  ...  asthma  inmsupr  hypertension  \\\n",
       "2        0          0          0  ...       0        0             0   \n",
       "3        0          1          2  ...       0        0             0   \n",
       "4        0          0          0  ...       0        0             1   \n",
       "5        0          1          2  ...       0        0             0   \n",
       "6        0          0          2  ...       0        0             1   \n",
       "\n",
       "   other_disease  cardiovascular  obesity  renal_chronic  tobacco  \\\n",
       "2              0               0        1              0        0   \n",
       "3              0               0        0              0        0   \n",
       "4              0               1        0              0        0   \n",
       "5              0               0        0              0        0   \n",
       "6              0               0        0              0        0   \n",
       "\n",
       "   contact_other_covid  icu  \n",
       "2                    2    0  \n",
       "3                    2    0  \n",
       "4                    2    0  \n",
       "5                    2    1  \n",
       "6                    2    0  \n",
       "\n",
       "[5 rows x 22 columns]"
      ]
     },
     "execution_count": 14,
     "metadata": {},
     "output_type": "execute_result"
    }
   ],
   "source": [
    "df4 = df3.drop('patient_type',axis='columns')\n",
    "df4.head()"
   ]
  },
  {
   "cell_type": "markdown",
   "metadata": {
    "papermill": {
     "duration": 0.074609,
     "end_time": "2021-01-14T22:57:04.780158",
     "exception": false,
     "start_time": "2021-01-14T22:57:04.705549",
     "status": "completed"
    },
    "tags": []
   },
   "source": [
    "### Test result and ICU requirement based on the number of days passed since the symptoms occured\n",
    "\n",
    "<br>\n",
    "\n",
    "* We will be creating a feature \"num_days_symptoms\" which means the number of days passed when the symptoms occured before testing.\n",
    "* This feature will be derived from entry_date column and date_symptoms column."
   ]
  },
  {
   "cell_type": "code",
   "execution_count": 15,
   "metadata": {
    "execution": {
     "iopub.execute_input": "2021-01-14T22:57:04.943199Z",
     "iopub.status.busy": "2021-01-14T22:57:04.942377Z",
     "iopub.status.idle": "2021-01-14T22:57:06.531754Z",
     "shell.execute_reply": "2021-01-14T22:57:06.531268Z"
    },
    "papermill": {
     "duration": 1.677978,
     "end_time": "2021-01-14T22:57:06.531849",
     "exception": false,
     "start_time": "2021-01-14T22:57:04.853871",
     "status": "completed"
    },
    "tags": []
   },
   "outputs": [
    {
     "data": {
      "text/plain": [
       "2    5\n",
       "3    7\n",
       "4    0\n",
       "5    0\n",
       "6    9\n",
       "Name: num_days_symptoms, dtype: int64"
      ]
     },
     "execution_count": 15,
     "metadata": {},
     "output_type": "execute_result"
    }
   ],
   "source": [
    "# converting these columns into datetime\n",
    "df4['entry_date'] = pd.to_datetime(df4['entry_date'],dayfirst=True)\n",
    "df4['date_symptoms'] = pd.to_datetime(df4['date_symptoms'],dayfirst=True)\n",
    "\n",
    "df4['num_days_symptoms'] = (df4['entry_date'] - df4['date_symptoms']).apply(lambda x: x.days)\n",
    "df4['num_days_symptoms'].head()"
   ]
  },
  {
   "cell_type": "code",
   "execution_count": 16,
   "metadata": {
    "_kg_hide-input": true,
    "execution": {
     "iopub.execute_input": "2021-01-14T22:57:06.634699Z",
     "iopub.status.busy": "2021-01-14T22:57:06.633535Z",
     "iopub.status.idle": "2021-01-14T22:57:06.959398Z",
     "shell.execute_reply": "2021-01-14T22:57:06.958917Z"
    },
    "papermill": {
     "duration": 0.381305,
     "end_time": "2021-01-14T22:57:06.959492",
     "exception": false,
     "start_time": "2021-01-14T22:57:06.578187",
     "status": "completed"
    },
    "scrolled": false,
    "tags": []
   },
   "outputs": [
    {
     "data": {
      "image/png": "[encoded data removed]",
      "text/plain": [
       "<Figure size 1296x432 with 2 Axes>"
      ]
     },
     "metadata": {
      "needs_background": "light"
     },
     "output_type": "display_data"
    }
   ],
   "source": [
    "negative = df4[df4['covid_res']==0]\n",
    "positive = df4[df4['covid_res']==1]\n",
    "\n",
    "# we are only considering the icu admission of positive patients\n",
    "icu_no = positive[positive['icu']==0]\n",
    "icu_yes = positive[positive['icu']==1]\n",
    "\n",
    "fig,ax = plt.subplots(ncols=2,figsize=(18,6))\n",
    "\n",
    "data = [[negative,positive],[icu_no,icu_yes]]\n",
    "titles = [\n",
    "    'Test result after nth-days of having symptoms',\n",
    "    'ICU requirement on positive patients based on nth-days of having symptoms'\n",
    "]\n",
    "labels = [['Negative','Positive'],['Not admitted','Admitted']]\n",
    "\n",
    "for x in range(2):\n",
    "    for y in range(2):\n",
    "        sns.kdeplot(data[x][y]['num_days_symptoms'],color=['b','r'][y],ax=ax[x],label=labels[x][y])\n",
    "    ax[x].set_title(titles[x])\n",
    "    ax[x].set_xlabel('Days')\n",
    "    ax[x].set_xlim(-2,20)\n",
    "    ax[x].set_xticks(range(0,20,2))\n",
    "    ax[x].legend()\n",
    "\n",
    "plt.show()"
   ]
  },
  {
   "cell_type": "markdown",
   "metadata": {
    "papermill": {
     "duration": 0.049709,
     "end_time": "2021-01-14T22:57:07.057537",
     "exception": false,
     "start_time": "2021-01-14T22:57:07.007828",
     "status": "completed"
    },
    "tags": []
   },
   "source": [
    "#### Insight\n",
    "\n",
    "* On the first graph, we can see that many patients test positive on the same day that symptoms occured.\n",
    "* We can also see that there is a lot of patients that test positive between 2-8 days of having symptoms.\n",
    "* On the second graph, we can see that half of positive patients with 0-8 days of symptoms were admitted to ICU."
   ]
  },
  {
   "cell_type": "markdown",
   "metadata": {
    "papermill": {
     "duration": 0.047007,
     "end_time": "2021-01-14T22:57:07.156469",
     "exception": false,
     "start_time": "2021-01-14T22:57:07.109462",
     "status": "completed"
    },
    "tags": []
   },
   "source": [
    "### Test result and ICU requirement based on age"
   ]
  },
  {
   "cell_type": "code",
   "execution_count": 17,
   "metadata": {
    "_kg_hide-input": true,
    "execution": {
     "iopub.execute_input": "2021-01-14T22:57:07.265009Z",
     "iopub.status.busy": "2021-01-14T22:57:07.263650Z",
     "iopub.status.idle": "2021-01-14T22:57:07.558278Z",
     "shell.execute_reply": "2021-01-14T22:57:07.558717Z"
    },
    "papermill": {
     "duration": 0.355267,
     "end_time": "2021-01-14T22:57:07.558851",
     "exception": false,
     "start_time": "2021-01-14T22:57:07.203584",
     "status": "completed"
    },
    "tags": []
   },
   "outputs": [
    {
     "data": {
      "image/png": "[encoded data removed]",
      "text/plain": [
       "<Figure size 1296x432 with 2 Axes>"
      ]
     },
     "metadata": {
      "needs_background": "light"
     },
     "output_type": "display_data"
    }
   ],
   "source": [
    "fig,ax = plt.subplots(ncols=2,figsize=(18,6))\n",
    "\n",
    "data = [[negative,positive],[icu_no,icu_yes]]\n",
    "titles = [\n",
    "    'Patient age and their test result',\n",
    "    'Age of positive patient and ICU status'\n",
    "]\n",
    "labels = [['Negative','Positive'],['Not admitted','Admitted']]\n",
    "\n",
    "for x in range(2):\n",
    "    for y in range(2):\n",
    "        sns.kdeplot(data[x][y]['age'],color=['b','r'][y],ax=ax[x],label=labels[x][y])\n",
    "    ax[x].set_title(titles[x])\n",
    "    ax[x].set_xlabel('Age')\n",
    "    ax[x].legend()\n",
    "\n",
    "plt.show()"
   ]
  },
  {
   "cell_type": "markdown",
   "metadata": {
    "papermill": {
     "duration": 0.050668,
     "end_time": "2021-01-14T22:57:07.660787",
     "exception": false,
     "start_time": "2021-01-14T22:57:07.610119",
     "status": "completed"
    },
    "tags": []
   },
   "source": [
    "#### Insight\n",
    "\n",
    "* Most of the patients that test positive ages between 40 and 80.\n",
    "* With patients test positive, half of them are admitted to ICU."
   ]
  },
  {
   "cell_type": "markdown",
   "metadata": {
    "papermill": {
     "duration": 0.047956,
     "end_time": "2021-01-14T22:57:07.757242",
     "exception": false,
     "start_time": "2021-01-14T22:57:07.709286",
     "status": "completed"
    },
    "tags": []
   },
   "source": [
    "### ICU requirement on positive patients with other health complications"
   ]
  },
  {
   "cell_type": "code",
   "execution_count": 18,
   "metadata": {
    "_kg_hide-input": true,
    "execution": {
     "iopub.execute_input": "2021-01-14T22:57:07.872527Z",
     "iopub.status.busy": "2021-01-14T22:57:07.871553Z",
     "iopub.status.idle": "2021-01-14T22:57:09.542227Z",
     "shell.execute_reply": "2021-01-14T22:57:09.542656Z"
    },
    "papermill": {
     "duration": 1.737034,
     "end_time": "2021-01-14T22:57:09.542773",
     "exception": false,
     "start_time": "2021-01-14T22:57:07.805739",
     "status": "completed"
    },
    "scrolled": false,
    "tags": []
   },
   "outputs": [
    {
     "data": {
      "image/png": "[encoded data removed]",
      "text/plain": [
       "<Figure size 1296x2160 with 15 Axes>"
      ]
     },
     "metadata": {
      "needs_background": "light"
     },
     "output_type": "display_data"
    }
   ],
   "source": [
    "# column name and description\n",
    "columns = [\n",
    "    ['intubed', 'Intubated'],\n",
    "    ['pneumonia', 'Has Pneumonia'],\n",
    "    ['pregnancy', 'Is pregnant'],\n",
    "    ['diabetes', 'Has diabetes'],\n",
    "    ['copd', 'Has COPD'],\n",
    "    ['asthma', 'Has asthma'],\n",
    "    ['inmsupr', 'Has immunosuppression'],\n",
    "    ['hypertension', 'Has hypertension'],\n",
    "    ['other_disease', 'Has other disease'],\n",
    "    ['cardiovascular', 'Has cardiovascular disease'],\n",
    "    ['obesity', 'Is obese'],\n",
    "    ['renal_chronic', 'Has chronic kidney failure'],\n",
    "    ['tobacco','Tobacco user']\n",
    "]\n",
    "legend = ['No','Yes','No data']\n",
    "\n",
    "fig,ax = plt.subplots(nrows=5,ncols=3,figsize=(18,30))\n",
    "\n",
    "counter = 0\n",
    "for row in range(5):\n",
    "    for column in range(3):  \n",
    "        plot = sns.countplot(x='icu',hue=columns[counter][0],data=positive,ax=ax[row][column])\n",
    "        plot.legend_.set_title(columns[counter][1])\n",
    "        for text, label in zip(plot.legend_.texts, legend): \n",
    "            text.set_text(label) \n",
    "        ax[row][column].set_xlabel('Admitted to ICU')\n",
    "        ax[row][column].set_xticks(range(2))\n",
    "        ax[row][column].set_xticklabels(['No','Yes'])\n",
    "        counter+=1\n",
    "        if row == 4 and column == 0:\n",
    "            break\n",
    "\n",
    "plt.suptitle('Covid positive patients with other health complications',fontsize=20)\n",
    "plt.show()"
   ]
  },
  {
   "cell_type": "markdown",
   "metadata": {
    "papermill": {
     "duration": 0.050867,
     "end_time": "2021-01-14T22:57:09.645717",
     "exception": false,
     "start_time": "2021-01-14T22:57:09.594850",
     "status": "completed"
    },
    "tags": []
   },
   "source": [
    "#### Insights\n",
    "\n",
    "* Half of intubated positive patients are admitted to ICU\n",
    "* Most of the positive patients have pneumonia\n",
    "* There is a lot of missing data in pregnancy column. We will look into these missing data later.\n",
    "* Obese patients have slightly higher chance of being admitted to ICU.\n",
    "* Rest of the features have the same ratio in terms of having and not having admitted to ICU."
   ]
  },
  {
   "cell_type": "markdown",
   "metadata": {
    "papermill": {
     "duration": 0.051334,
     "end_time": "2021-01-14T22:57:09.747578",
     "exception": false,
     "start_time": "2021-01-14T22:57:09.696244",
     "status": "completed"
    },
    "tags": []
   },
   "source": [
    "# Working with features\n",
    "\n",
    "* Dealing with missing values in pregnancy column\n",
    "* Dealing with remaining missing values in other columns\n",
    "* Convert test result into dummy variables\n",
    "* Feature selection"
   ]
  },
  {
   "cell_type": "markdown",
   "metadata": {
    "papermill": {
     "duration": 0.050515,
     "end_time": "2021-01-14T22:57:09.849291",
     "exception": false,
     "start_time": "2021-01-14T22:57:09.798776",
     "status": "completed"
    },
    "tags": []
   },
   "source": [
    "### Dealing with missing values\n",
    "\n",
    "* We saw from the graphs above the huge amount of missing values in pregnancy column. Let see these missing values."
   ]
  },
  {
   "cell_type": "code",
   "execution_count": 19,
   "metadata": {
    "execution": {
     "iopub.execute_input": "2021-01-14T22:57:09.960443Z",
     "iopub.status.busy": "2021-01-14T22:57:09.959443Z",
     "iopub.status.idle": "2021-01-14T22:57:09.980584Z",
     "shell.execute_reply": "2021-01-14T22:57:09.979999Z"
    },
    "papermill": {
     "duration": 0.080878,
     "end_time": "2021-01-14T22:57:09.980695",
     "exception": false,
     "start_time": "2021-01-14T22:57:09.899817",
     "status": "completed"
    },
    "tags": []
   },
   "outputs": [
    {
     "name": "stdout",
     "output_type": "stream",
     "text": [
      "Pregnancy column value counts:\n",
      "{'Missing data': 73165, 'Not pregnant': 47554, 'Pregnant': 1069}\n",
      "\n",
      "Gender of patients with missing value in pregnancy:\n",
      "{'Male': 72999, 'Female': 166}\n"
     ]
    }
   ],
   "source": [
    "prenancy_dict = {0:'Not pregnant',1:'Pregnant',2:'Missing data'}\n",
    "gender_dict = {0:'Female',1:'Male'}\n",
    "\n",
    "print('Pregnancy column value counts:')\n",
    "print(df4['pregnancy'].value_counts().rename(prenancy_dict).to_dict())\n",
    "\n",
    "print('\\nGender of patients with missing value in pregnancy:')\n",
    "print(df4[df4['pregnancy']==2]['sex'].value_counts().rename(gender_dict).to_dict())"
   ]
  },
  {
   "cell_type": "markdown",
   "metadata": {
    "papermill": {
     "duration": 0.051282,
     "end_time": "2021-01-14T22:57:10.083945",
     "exception": false,
     "start_time": "2021-01-14T22:57:10.032663",
     "status": "completed"
    },
    "tags": []
   },
   "source": [
    "* We see that the patients with missing value concerning pregnancy are male. \n",
    "* We can set these male patients as not pregnant and drop the remaining female patients."
   ]
  },
  {
   "cell_type": "code",
   "execution_count": 20,
   "metadata": {
    "execution": {
     "iopub.execute_input": "2021-01-14T22:57:10.194143Z",
     "iopub.status.busy": "2021-01-14T22:57:10.193312Z",
     "iopub.status.idle": "2021-01-14T22:57:10.216777Z",
     "shell.execute_reply": "2021-01-14T22:57:10.217208Z"
    },
    "papermill": {
     "duration": 0.080515,
     "end_time": "2021-01-14T22:57:10.217319",
     "exception": false,
     "start_time": "2021-01-14T22:57:10.136804",
     "status": "completed"
    },
    "tags": []
   },
   "outputs": [
    {
     "data": {
      "text/plain": [
       "0    120553\n",
       "1      1069\n",
       "Name: pregnancy, dtype: int64"
      ]
     },
     "execution_count": 20,
     "metadata": {},
     "output_type": "execute_result"
    }
   ],
   "source": [
    "# dropping female patients with missing value in pregnancy\n",
    "df5 = df4.drop(df4[(df4['pregnancy']==2) & (df4['sex']==0)].index,axis='index')\n",
    "\n",
    "# converting missing values into not pregnant since they are all male\n",
    "df5['pregnancy'].replace(2,0,inplace=True)\n",
    "df5['pregnancy'].value_counts()"
   ]
  },
  {
   "cell_type": "markdown",
   "metadata": {
    "papermill": {
     "duration": 0.051976,
     "end_time": "2021-01-14T22:57:10.322109",
     "exception": false,
     "start_time": "2021-01-14T22:57:10.270133",
     "status": "completed"
    },
    "tags": []
   },
   "source": [
    "### Dealing with remaining missing values in other columns"
   ]
  },
  {
   "cell_type": "code",
   "execution_count": 21,
   "metadata": {
    "execution": {
     "iopub.execute_input": "2021-01-14T22:57:10.432387Z",
     "iopub.status.busy": "2021-01-14T22:57:10.431591Z",
     "iopub.status.idle": "2021-01-14T22:57:10.468125Z",
     "shell.execute_reply": "2021-01-14T22:57:10.468560Z"
    },
    "papermill": {
     "duration": 0.09516,
     "end_time": "2021-01-14T22:57:10.468683",
     "exception": false,
     "start_time": "2021-01-14T22:57:10.373523",
     "status": "completed"
    },
    "tags": []
   },
   "outputs": [
    {
     "name": "stdout",
     "output_type": "stream",
     "text": [
      "intubed: {'No': 111686, 'Yes': 9936}\n",
      "pneumonia: {'Yes': 73577, 'No': 48045}\n",
      "pregnancy: {'No': 120553, 'Yes': 1069}\n",
      "diabetes: {'No': 85555, 'Yes': 35404, 'No data': 663}\n",
      "copd: {'No': 115557, 'Yes': 5487, 'No data': 578}\n",
      "asthma: {'No': 117907, 'Yes': 3137, 'No data': 578}\n",
      "inmsupr: {'No': 116237, 'Yes': 4714, 'No data': 671}\n",
      "hypertension: {'No': 80763, 'Yes': 40257, 'No data': 602}\n",
      "other_disease: {'No': 113317, 'Yes': 7272, 'No data': 1033}\n",
      "cardiovascular: {'No': 114687, 'Yes': 6295, 'No data': 640}\n",
      "obesity: {'No': 95927, 'Yes': 25068, 'No data': 627}\n",
      "renal_chronic: {'No': 113791, 'Yes': 7228, 'No data': 603}\n",
      "tobacco: {'No': 110264, 'Yes': 10726, 'No data': 632}\n",
      "contact_other_covid: {'No data': 62043, 'No': 42351, 'Yes': 17228}\n",
      "icu: {'No': 111529, 'Yes': 10093}\n"
     ]
    }
   ],
   "source": [
    "columns = [\n",
    "    'intubed','pneumonia','pregnancy','diabetes','copd',\n",
    "    'asthma','inmsupr','hypertension','other_disease','cardiovascular',\n",
    "    'obesity','renal_chronic','tobacco','contact_other_covid','icu'\n",
    "]\n",
    "legend = {0:'No',1:'Yes',2:'No data'}\n",
    "\n",
    "for column in columns:\n",
    "    print('{}: {}'.format(column,df5[column].value_counts().rename(legend).to_dict()))"
   ]
  },
  {
   "cell_type": "markdown",
   "metadata": {
    "papermill": {
     "duration": 0.052998,
     "end_time": "2021-01-14T22:57:10.574988",
     "exception": false,
     "start_time": "2021-01-14T22:57:10.521990",
     "status": "completed"
    },
    "tags": []
   },
   "source": [
    "* We can see the huge amount of missing values in contact_other_covid column. We can drop this feature since there is a lot of missing values present and also it is not needed in our prediction.\n",
    "* We will also drop all the rows with missing values"
   ]
  },
  {
   "cell_type": "code",
   "execution_count": 22,
   "metadata": {
    "execution": {
     "iopub.execute_input": "2021-01-14T22:57:10.693161Z",
     "iopub.status.busy": "2021-01-14T22:57:10.692309Z",
     "iopub.status.idle": "2021-01-14T22:57:10.866727Z",
     "shell.execute_reply": "2021-01-14T22:57:10.867257Z"
    },
    "papermill": {
     "duration": 0.240334,
     "end_time": "2021-01-14T22:57:10.867453",
     "exception": false,
     "start_time": "2021-01-14T22:57:10.627119",
     "status": "completed"
    },
    "tags": []
   },
   "outputs": [],
   "source": [
    "columns = [\n",
    "    'diabetes','copd','asthma',\n",
    "    'inmsupr','hypertension','other_disease','cardiovascular',\n",
    "    'obesity','renal_chronic','tobacco'\n",
    "]\n",
    "\n",
    "# dropping contact_other_covid column\n",
    "df6 = df5.drop('contact_other_covid',axis='columns')\n",
    "\n",
    "# dropping all rows with missing values\n",
    "df7 = df6[columns].replace(2,np.nan).dropna().astype('int8').merge(\n",
    "            df6[['id','sex', 'entry_date', 'date_symptoms', 'date_died', 'age',\n",
    "           'covid_res','intubed', 'pneumonia', 'pregnancy','icu', 'num_days_symptoms']],\n",
    "            left_index=True, right_index=True\n",
    "        )"
   ]
  },
  {
   "cell_type": "markdown",
   "metadata": {
    "papermill": {
     "duration": 0.051942,
     "end_time": "2021-01-14T22:57:10.972973",
     "exception": false,
     "start_time": "2021-01-14T22:57:10.921031",
     "status": "completed"
    },
    "tags": []
   },
   "source": [
    "### Convert test result into dummy variables"
   ]
  },
  {
   "cell_type": "code",
   "execution_count": 23,
   "metadata": {
    "execution": {
     "iopub.execute_input": "2021-01-14T22:57:11.084983Z",
     "iopub.status.busy": "2021-01-14T22:57:11.084061Z",
     "iopub.status.idle": "2021-01-14T22:57:11.111913Z",
     "shell.execute_reply": "2021-01-14T22:57:11.111375Z"
    },
    "papermill": {
     "duration": 0.085881,
     "end_time": "2021-01-14T22:57:11.112004",
     "exception": false,
     "start_time": "2021-01-14T22:57:11.026123",
     "status": "completed"
    },
    "tags": []
   },
   "outputs": [
    {
     "data": {
      "text/html": [
       "<div>\n",
       "<style scoped>\n",
       "    .dataframe tbody tr th:only-of-type {\n",
       "        vertical-align: middle;\n",
       "    }\n",
       "\n",
       "    .dataframe tbody tr th {\n",
       "        vertical-align: top;\n",
       "    }\n",
       "\n",
       "    .dataframe thead th {\n",
       "        text-align: right;\n",
       "    }\n",
       "</style>\n",
       "<table border=\"1\" class=\"dataframe\">\n",
       "  <thead>\n",
       "    <tr style=\"text-align: right;\">\n",
       "      <th></th>\n",
       "      <th>covid_negative</th>\n",
       "      <th>covid_positive</th>\n",
       "    </tr>\n",
       "  </thead>\n",
       "  <tbody>\n",
       "    <tr>\n",
       "      <th>2</th>\n",
       "      <td>0</td>\n",
       "      <td>1</td>\n",
       "    </tr>\n",
       "    <tr>\n",
       "      <th>3</th>\n",
       "      <td>0</td>\n",
       "      <td>1</td>\n",
       "    </tr>\n",
       "    <tr>\n",
       "      <th>4</th>\n",
       "      <td>0</td>\n",
       "      <td>1</td>\n",
       "    </tr>\n",
       "    <tr>\n",
       "      <th>5</th>\n",
       "      <td>0</td>\n",
       "      <td>1</td>\n",
       "    </tr>\n",
       "    <tr>\n",
       "      <th>6</th>\n",
       "      <td>0</td>\n",
       "      <td>1</td>\n",
       "    </tr>\n",
       "  </tbody>\n",
       "</table>\n",
       "</div>"
      ],
      "text/plain": [
       "   covid_negative  covid_positive\n",
       "2               0               1\n",
       "3               0               1\n",
       "4               0               1\n",
       "5               0               1\n",
       "6               0               1"
      ]
     },
     "execution_count": 23,
     "metadata": {},
     "output_type": "execute_result"
    }
   ],
   "source": [
    "covid_results = pd.get_dummies(df7['covid_res'].replace({0:'covid_negative',1:'covid_positive'}),drop_first=True)\n",
    "covid_results.head()"
   ]
  },
  {
   "cell_type": "code",
   "execution_count": 24,
   "metadata": {
    "execution": {
     "iopub.execute_input": "2021-01-14T22:57:11.224714Z",
     "iopub.status.busy": "2021-01-14T22:57:11.223294Z",
     "iopub.status.idle": "2021-01-14T22:57:11.240685Z",
     "shell.execute_reply": "2021-01-14T22:57:11.240132Z"
    },
    "papermill": {
     "duration": 0.075347,
     "end_time": "2021-01-14T22:57:11.240808",
     "exception": false,
     "start_time": "2021-01-14T22:57:11.165461",
     "status": "completed"
    },
    "tags": []
   },
   "outputs": [],
   "source": [
    "df8 = pd.concat([df7,covid_results],axis='columns')"
   ]
  },
  {
   "cell_type": "markdown",
   "metadata": {
    "papermill": {
     "duration": 0.053028,
     "end_time": "2021-01-14T22:57:11.346897",
     "exception": false,
     "start_time": "2021-01-14T22:57:11.293869",
     "status": "completed"
    },
    "tags": []
   },
   "source": [
    "### Feature selection"
   ]
  },
  {
   "cell_type": "code",
   "execution_count": 25,
   "metadata": {
    "execution": {
     "iopub.execute_input": "2021-01-14T22:57:11.461247Z",
     "iopub.status.busy": "2021-01-14T22:57:11.459941Z",
     "iopub.status.idle": "2021-01-14T22:57:11.474101Z",
     "shell.execute_reply": "2021-01-14T22:57:11.473675Z"
    },
    "papermill": {
     "duration": 0.073299,
     "end_time": "2021-01-14T22:57:11.474209",
     "exception": false,
     "start_time": "2021-01-14T22:57:11.400910",
     "status": "completed"
    },
    "tags": []
   },
   "outputs": [],
   "source": [
    "columns = ['sex','age','num_days_symptoms','intubed', \n",
    "           'pneumonia', 'pregnancy','diabetes', 'copd', 'asthma',\n",
    "           'inmsupr', 'hypertension','other_disease', 'cardiovascular', 'obesity',\n",
    "           'renal_chronic','tobacco','covid_negative','covid_positive','icu'\n",
    "          ]\n",
    "\n",
    "# dropped id, entry_date, date_symptoms, date_died, covid_res\n",
    "df9 = df8[columns]"
   ]
  },
  {
   "cell_type": "code",
   "execution_count": 26,
   "metadata": {
    "execution": {
     "iopub.execute_input": "2021-01-14T22:57:11.595624Z",
     "iopub.status.busy": "2021-01-14T22:57:11.594778Z",
     "iopub.status.idle": "2021-01-14T22:57:11.599096Z",
     "shell.execute_reply": "2021-01-14T22:57:11.598605Z"
    },
    "papermill": {
     "duration": 0.071694,
     "end_time": "2021-01-14T22:57:11.599209",
     "exception": false,
     "start_time": "2021-01-14T22:57:11.527515",
     "status": "completed"
    },
    "tags": []
   },
   "outputs": [
    {
     "data": {
      "text/html": [
       "<div>\n",
       "<style scoped>\n",
       "    .dataframe tbody tr th:only-of-type {\n",
       "        vertical-align: middle;\n",
       "    }\n",
       "\n",
       "    .dataframe tbody tr th {\n",
       "        vertical-align: top;\n",
       "    }\n",
       "\n",
       "    .dataframe thead th {\n",
       "        text-align: right;\n",
       "    }\n",
       "</style>\n",
       "<table border=\"1\" class=\"dataframe\">\n",
       "  <thead>\n",
       "    <tr style=\"text-align: right;\">\n",
       "      <th></th>\n",
       "      <th>sex</th>\n",
       "      <th>age</th>\n",
       "      <th>num_days_symptoms</th>\n",
       "      <th>intubed</th>\n",
       "      <th>pneumonia</th>\n",
       "      <th>pregnancy</th>\n",
       "      <th>diabetes</th>\n",
       "      <th>copd</th>\n",
       "      <th>asthma</th>\n",
       "      <th>inmsupr</th>\n",
       "      <th>hypertension</th>\n",
       "      <th>other_disease</th>\n",
       "      <th>cardiovascular</th>\n",
       "      <th>obesity</th>\n",
       "      <th>renal_chronic</th>\n",
       "      <th>tobacco</th>\n",
       "      <th>covid_negative</th>\n",
       "      <th>covid_positive</th>\n",
       "      <th>icu</th>\n",
       "    </tr>\n",
       "  </thead>\n",
       "  <tbody>\n",
       "    <tr>\n",
       "      <th>2</th>\n",
       "      <td>0</td>\n",
       "      <td>54</td>\n",
       "      <td>5</td>\n",
       "      <td>0</td>\n",
       "      <td>0</td>\n",
       "      <td>0</td>\n",
       "      <td>0</td>\n",
       "      <td>0</td>\n",
       "      <td>0</td>\n",
       "      <td>0</td>\n",
       "      <td>0</td>\n",
       "      <td>0</td>\n",
       "      <td>0</td>\n",
       "      <td>1</td>\n",
       "      <td>0</td>\n",
       "      <td>0</td>\n",
       "      <td>0</td>\n",
       "      <td>1</td>\n",
       "      <td>0</td>\n",
       "    </tr>\n",
       "    <tr>\n",
       "      <th>3</th>\n",
       "      <td>1</td>\n",
       "      <td>30</td>\n",
       "      <td>7</td>\n",
       "      <td>0</td>\n",
       "      <td>1</td>\n",
       "      <td>0</td>\n",
       "      <td>0</td>\n",
       "      <td>0</td>\n",
       "      <td>0</td>\n",
       "      <td>0</td>\n",
       "      <td>0</td>\n",
       "      <td>0</td>\n",
       "      <td>0</td>\n",
       "      <td>0</td>\n",
       "      <td>0</td>\n",
       "      <td>0</td>\n",
       "      <td>0</td>\n",
       "      <td>1</td>\n",
       "      <td>0</td>\n",
       "    </tr>\n",
       "    <tr>\n",
       "      <th>4</th>\n",
       "      <td>0</td>\n",
       "      <td>60</td>\n",
       "      <td>0</td>\n",
       "      <td>0</td>\n",
       "      <td>0</td>\n",
       "      <td>0</td>\n",
       "      <td>1</td>\n",
       "      <td>0</td>\n",
       "      <td>0</td>\n",
       "      <td>0</td>\n",
       "      <td>1</td>\n",
       "      <td>0</td>\n",
       "      <td>1</td>\n",
       "      <td>0</td>\n",
       "      <td>0</td>\n",
       "      <td>0</td>\n",
       "      <td>0</td>\n",
       "      <td>1</td>\n",
       "      <td>0</td>\n",
       "    </tr>\n",
       "    <tr>\n",
       "      <th>5</th>\n",
       "      <td>1</td>\n",
       "      <td>47</td>\n",
       "      <td>0</td>\n",
       "      <td>0</td>\n",
       "      <td>1</td>\n",
       "      <td>0</td>\n",
       "      <td>1</td>\n",
       "      <td>0</td>\n",
       "      <td>0</td>\n",
       "      <td>0</td>\n",
       "      <td>0</td>\n",
       "      <td>0</td>\n",
       "      <td>0</td>\n",
       "      <td>0</td>\n",
       "      <td>0</td>\n",
       "      <td>0</td>\n",
       "      <td>0</td>\n",
       "      <td>1</td>\n",
       "      <td>1</td>\n",
       "    </tr>\n",
       "    <tr>\n",
       "      <th>6</th>\n",
       "      <td>1</td>\n",
       "      <td>63</td>\n",
       "      <td>9</td>\n",
       "      <td>0</td>\n",
       "      <td>0</td>\n",
       "      <td>0</td>\n",
       "      <td>0</td>\n",
       "      <td>0</td>\n",
       "      <td>0</td>\n",
       "      <td>0</td>\n",
       "      <td>1</td>\n",
       "      <td>0</td>\n",
       "      <td>0</td>\n",
       "      <td>0</td>\n",
       "      <td>0</td>\n",
       "      <td>0</td>\n",
       "      <td>0</td>\n",
       "      <td>1</td>\n",
       "      <td>0</td>\n",
       "    </tr>\n",
       "  </tbody>\n",
       "</table>\n",
       "</div>"
      ],
      "text/plain": [
       "   sex  age  num_days_symptoms  intubed  pneumonia  pregnancy  diabetes  copd  \\\n",
       "2    0   54                  5        0          0          0         0     0   \n",
       "3    1   30                  7        0          1          0         0     0   \n",
       "4    0   60                  0        0          0          0         1     0   \n",
       "5    1   47                  0        0          1          0         1     0   \n",
       "6    1   63                  9        0          0          0         0     0   \n",
       "\n",
       "   asthma  inmsupr  hypertension  other_disease  cardiovascular  obesity  \\\n",
       "2       0        0             0              0               0        1   \n",
       "3       0        0             0              0               0        0   \n",
       "4       0        0             1              0               1        0   \n",
       "5       0        0             0              0               0        0   \n",
       "6       0        0             1              0               0        0   \n",
       "\n",
       "   renal_chronic  tobacco  covid_negative  covid_positive  icu  \n",
       "2              0        0               0               1    0  \n",
       "3              0        0               0               1    0  \n",
       "4              0        0               0               1    0  \n",
       "5              0        0               0               1    1  \n",
       "6              0        0               0               1    0  "
      ]
     },
     "execution_count": 26,
     "metadata": {},
     "output_type": "execute_result"
    }
   ],
   "source": [
    "df9.head()"
   ]
  },
  {
   "cell_type": "markdown",
   "metadata": {
    "papermill": {
     "duration": 0.053421,
     "end_time": "2021-01-14T22:57:11.706927",
     "exception": false,
     "start_time": "2021-01-14T22:57:11.653506",
     "status": "completed"
    },
    "tags": []
   },
   "source": [
    "# Model Building\n",
    "\n",
    "* Importing necessary libraries\n",
    "* Performing oversampling using SMOTE\n",
    "* Splitting the dataset into training and testing data\n",
    "* Feature Scaling\n",
    "* Creating ANN model\n",
    "* Training the model\n",
    "* Evaluating the model"
   ]
  },
  {
   "cell_type": "code",
   "execution_count": 27,
   "metadata": {
    "execution": {
     "iopub.execute_input": "2021-01-14T22:57:11.820538Z",
     "iopub.status.busy": "2021-01-14T22:57:11.819753Z",
     "iopub.status.idle": "2021-01-14T22:57:16.581244Z",
     "shell.execute_reply": "2021-01-14T22:57:16.580424Z"
    },
    "papermill": {
     "duration": 4.820157,
     "end_time": "2021-01-14T22:57:16.581369",
     "exception": false,
     "start_time": "2021-01-14T22:57:11.761212",
     "status": "completed"
    },
    "tags": []
   },
   "outputs": [],
   "source": [
    "# Performing oversampling using SMOTE\n",
    "from imblearn.over_sampling import SMOTE\n",
    "\n",
    "# Splitting and scaling the data\n",
    "from sklearn.model_selection import train_test_split\n",
    "from sklearn.preprocessing import MinMaxScaler\n",
    "\n",
    "# Creating ANN model\n",
    "import tensorflow as tf\n",
    "from tensorflow.keras import Sequential, Input\n",
    "from tensorflow.keras.layers import Dense\n",
    "\n",
    "# Evaluating the model\n",
    "from sklearn.metrics import classification_report, confusion_matrix, recall_score"
   ]
  },
  {
   "cell_type": "markdown",
   "metadata": {
    "papermill": {
     "duration": 0.053248,
     "end_time": "2021-01-14T22:57:16.688963",
     "exception": false,
     "start_time": "2021-01-14T22:57:16.635715",
     "status": "completed"
    },
    "tags": []
   },
   "source": [
    "### Performing oversampling using SMOTE"
   ]
  },
  {
   "cell_type": "code",
   "execution_count": 28,
   "metadata": {
    "execution": {
     "iopub.execute_input": "2021-01-14T22:57:16.808272Z",
     "iopub.status.busy": "2021-01-14T22:57:16.807466Z",
     "iopub.status.idle": "2021-01-14T22:57:17.085300Z",
     "shell.execute_reply": "2021-01-14T22:57:17.085708Z"
    },
    "papermill": {
     "duration": 0.343114,
     "end_time": "2021-01-14T22:57:17.085833",
     "exception": false,
     "start_time": "2021-01-14T22:57:16.742719",
     "status": "completed"
    },
    "tags": []
   },
   "outputs": [
    {
     "name": "stdout",
     "output_type": "stream",
     "text": [
      "ICU values before oversampling\n",
      "0: 110201\n",
      "1: 9825\n",
      "\n",
      "ICU values after oversampling\n",
      "0: 110201\n",
      "1: 110201\n"
     ]
    }
   ],
   "source": [
    "X = df9.drop('icu',axis='columns')\n",
    "y = df9['icu']\n",
    "\n",
    "icu_before_oversampling = y.value_counts()\n",
    "print('ICU values before oversampling')\n",
    "print(f'0: {icu_before_oversampling[0]}')\n",
    "print(f'1: {icu_before_oversampling[1]}')\n",
    "\n",
    "sm = SMOTE(random_state=42)\n",
    "X_res, y_res = sm.fit_resample(X, y)\n",
    "\n",
    "icu_after_oversampling = y_res.value_counts()\n",
    "print('\\nICU values after oversampling')\n",
    "print(f'0: {icu_after_oversampling[0]}')\n",
    "print(f'1: {icu_after_oversampling[1]}')"
   ]
  },
  {
   "cell_type": "markdown",
   "metadata": {
    "papermill": {
     "duration": 0.053879,
     "end_time": "2021-01-14T22:57:17.194722",
     "exception": false,
     "start_time": "2021-01-14T22:57:17.140843",
     "status": "completed"
    },
    "tags": []
   },
   "source": [
    "### Splitting the dataset into training and testing data"
   ]
  },
  {
   "cell_type": "code",
   "execution_count": 29,
   "metadata": {
    "execution": {
     "iopub.execute_input": "2021-01-14T22:57:17.308567Z",
     "iopub.status.busy": "2021-01-14T22:57:17.307987Z",
     "iopub.status.idle": "2021-01-14T22:57:17.456351Z",
     "shell.execute_reply": "2021-01-14T22:57:17.455386Z"
    },
    "papermill": {
     "duration": 0.207912,
     "end_time": "2021-01-14T22:57:17.456469",
     "exception": false,
     "start_time": "2021-01-14T22:57:17.248557",
     "status": "completed"
    },
    "tags": []
   },
   "outputs": [
    {
     "name": "stdout",
     "output_type": "stream",
     "text": [
      "Lenght of training data: 154281\n",
      "Lenght of testing data: 66121\n"
     ]
    }
   ],
   "source": [
    "X_train, X_test, y_train, y_test = train_test_split(X_res, y_res, test_size=0.30, random_state=0,stratify=y_res)\n",
    "\n",
    "print('Lenght of training data:',len(X_train))\n",
    "print('Lenght of testing data:',len(X_test))"
   ]
  },
  {
   "cell_type": "markdown",
   "metadata": {
    "papermill": {
     "duration": 0.054368,
     "end_time": "2021-01-14T22:57:17.566274",
     "exception": false,
     "start_time": "2021-01-14T22:57:17.511906",
     "status": "completed"
    },
    "tags": []
   },
   "source": [
    "### Feature Scaling\n",
    "\n",
    "* We will be using MinMaxScaler from sklearn library.\n",
    "* This scales your data between 0 and 1."
   ]
  },
  {
   "cell_type": "code",
   "execution_count": 30,
   "metadata": {
    "execution": {
     "iopub.execute_input": "2021-01-14T22:57:17.682742Z",
     "iopub.status.busy": "2021-01-14T22:57:17.681575Z",
     "iopub.status.idle": "2021-01-14T22:57:17.725050Z",
     "shell.execute_reply": "2021-01-14T22:57:17.724592Z"
    },
    "papermill": {
     "duration": 0.104189,
     "end_time": "2021-01-14T22:57:17.725165",
     "exception": false,
     "start_time": "2021-01-14T22:57:17.620976",
     "status": "completed"
    },
    "tags": []
   },
   "outputs": [],
   "source": [
    "scaler = MinMaxScaler()\n",
    "\n",
    "# fit and transfrom\n",
    "X_train = scaler.fit_transform(X_train)\n",
    "X_test = scaler.transform(X_test)"
   ]
  },
  {
   "cell_type": "code",
   "execution_count": 31,
   "metadata": {
    "execution": {
     "iopub.execute_input": "2021-01-14T22:57:17.839936Z",
     "iopub.status.busy": "2021-01-14T22:57:17.839379Z",
     "iopub.status.idle": "2021-01-14T22:57:17.845054Z",
     "shell.execute_reply": "2021-01-14T22:57:17.844613Z"
    },
    "papermill": {
     "duration": 0.064341,
     "end_time": "2021-01-14T22:57:17.845151",
     "exception": false,
     "start_time": "2021-01-14T22:57:17.780810",
     "status": "completed"
    },
    "tags": []
   },
   "outputs": [
    {
     "data": {
      "text/plain": [
       "(154281, 18)"
      ]
     },
     "execution_count": 31,
     "metadata": {},
     "output_type": "execute_result"
    }
   ],
   "source": [
    "X_train.shape"
   ]
  },
  {
   "cell_type": "markdown",
   "metadata": {
    "papermill": {
     "duration": 0.055023,
     "end_time": "2021-01-14T22:57:17.955569",
     "exception": false,
     "start_time": "2021-01-14T22:57:17.900546",
     "status": "completed"
    },
    "tags": []
   },
   "source": [
    "### Creating ANN model"
   ]
  },
  {
   "cell_type": "code",
   "execution_count": 32,
   "metadata": {
    "execution": {
     "iopub.execute_input": "2021-01-14T22:57:18.079155Z",
     "iopub.status.busy": "2021-01-14T22:57:18.078636Z",
     "iopub.status.idle": "2021-01-14T22:57:20.785127Z",
     "shell.execute_reply": "2021-01-14T22:57:20.785650Z"
    },
    "papermill": {
     "duration": 2.774926,
     "end_time": "2021-01-14T22:57:20.785811",
     "exception": false,
     "start_time": "2021-01-14T22:57:18.010885",
     "status": "completed"
    },
    "tags": []
   },
   "outputs": [],
   "source": [
    "model = Sequential()\n",
    "\n",
    "# input layer\n",
    "model.add(Input(shape=(18,)))\n",
    "\n",
    "# hidden layers\n",
    "model.add(Dense(40,activation='relu'))\n",
    "model.add(Dense(40,activation='relu'))\n",
    "model.add(Dense(40,activation='relu'))\n",
    "model.add(Dense(80,activation='relu'))\n",
    "model.add(Dense(80,activation='relu'))\n",
    "model.add(Dense(80,activation='relu'))\n",
    "model.add(Dense(160,activation='relu'))\n",
    "model.add(Dense(160,activation='relu'))\n",
    "model.add(Dense(160,activation='relu'))\n",
    "model.add(Dense(160,activation='relu'))\n",
    "model.add(Dense(80,activation='relu'))\n",
    "model.add(Dense(80,activation='relu'))\n",
    "model.add(Dense(80,activation='relu'))\n",
    "model.add(Dense(40,activation='relu'))\n",
    "model.add(Dense(40,activation='relu'))\n",
    "model.add(Dense(40,activation='relu'))\n",
    "\n",
    "# output layer\n",
    "model.add(Dense(1,activation='sigmoid'))\n",
    "\n",
    "model.compile(optimizer='adam',\n",
    "              loss=tf.keras.losses.BinaryCrossentropy(),\n",
    "              metrics=[tf.keras.metrics.Recall()])"
   ]
  },
  {
   "cell_type": "markdown",
   "metadata": {
    "papermill": {
     "duration": 0.055645,
     "end_time": "2021-01-14T22:57:20.897040",
     "exception": false,
     "start_time": "2021-01-14T22:57:20.841395",
     "status": "completed"
    },
    "tags": []
   },
   "source": [
    "### Training the model"
   ]
  },
  {
   "cell_type": "code",
   "execution_count": 33,
   "metadata": {
    "_kg_hide-output": true,
    "execution": {
     "iopub.execute_input": "2021-01-14T22:57:21.012964Z",
     "iopub.status.busy": "2021-01-14T22:57:21.012346Z",
     "iopub.status.idle": "2021-01-14T23:11:56.389901Z",
     "shell.execute_reply": "2021-01-14T23:11:56.390942Z"
    },
    "papermill": {
     "duration": 875.438465,
     "end_time": "2021-01-14T23:11:56.391126",
     "exception": false,
     "start_time": "2021-01-14T22:57:20.952661",
     "status": "completed"
    },
    "tags": []
   },
   "outputs": [
    {
     "name": "stdout",
     "output_type": "stream",
     "text": [
      "Epoch 1/300\n",
      "603/603 [==============================] - 3s 5ms/step - loss: 0.5395 - recall: 0.6218 - val_loss: 0.5303 - val_recall: 0.6216\n",
      "Epoch 2/300\n",
      "603/603 [==============================] - 3s 5ms/step - loss: 0.5271 - recall: 0.6241 - val_loss: 0.5267 - val_recall: 0.6209\n",
      "Epoch 3/300\n",
      "603/603 [==============================] - 3s 5ms/step - loss: 0.5247 - recall: 0.6549 - val_loss: 0.5327 - val_recall: 0.5791\n",
      "Epoch 4/300\n",
      "603/603 [==============================] - 3s 4ms/step - loss: 0.5230 - recall: 0.6545 - val_loss: 0.5223 - val_recall: 0.5891\n",
      "Epoch 5/300\n",
      "603/603 [==============================] - 3s 6ms/step - loss: 0.5202 - recall: 0.6346 - val_loss: 0.5225 - val_recall: 0.6113\n",
      "Epoch 6/300\n",
      "603/603 [==============================] - 3s 4ms/step - loss: 0.5191 - recall: 0.6620 - val_loss: 0.5250 - val_recall: 0.6681\n",
      "Epoch 7/300\n",
      "603/603 [==============================] - 3s 4ms/step - loss: 0.5183 - recall: 0.6608 - val_loss: 0.5187 - val_recall: 0.5776\n",
      "Epoch 8/300\n",
      "603/603 [==============================] - 3s 4ms/step - loss: 0.5161 - recall: 0.6544 - val_loss: 0.5203 - val_recall: 0.6608\n",
      "Epoch 9/300\n",
      "603/603 [==============================] - 3s 5ms/step - loss: 0.5163 - recall: 0.6597 - val_loss: 0.5195 - val_recall: 0.6357\n",
      "Epoch 10/300\n",
      "603/603 [==============================] - 3s 4ms/step - loss: 0.5146 - recall: 0.6586 - val_loss: 0.5175 - val_recall: 0.6430\n",
      "Epoch 11/300\n",
      "603/603 [==============================] - 3s 6ms/step - loss: 0.5135 - recall: 0.6498 - val_loss: 0.5197 - val_recall: 0.6292\n",
      "Epoch 12/300\n",
      "603/603 [==============================] - 3s 5ms/step - loss: 0.5124 - recall: 0.6702 - val_loss: 0.5163 - val_recall: 0.6432\n",
      "Epoch 13/300\n",
      "603/603 [==============================] - 3s 5ms/step - loss: 0.5112 - recall: 0.6615 - val_loss: 0.5146 - val_recall: 0.6348\n",
      "Epoch 14/300\n",
      "603/603 [==============================] - 3s 5ms/step - loss: 0.5105 - recall: 0.6606 - val_loss: 0.5145 - val_recall: 0.6573\n",
      "Epoch 15/300\n",
      "603/603 [==============================] - 3s 4ms/step - loss: 0.5087 - recall: 0.6636 - val_loss: 0.5193 - val_recall: 0.6707\n",
      "Epoch 16/300\n",
      "603/603 [==============================] - 3s 5ms/step - loss: 0.5079 - recall: 0.6564 - val_loss: 0.5123 - val_recall: 0.6633\n",
      "Epoch 17/300\n",
      "603/603 [==============================] - 3s 5ms/step - loss: 0.5079 - recall: 0.6668 - val_loss: 0.5133 - val_recall: 0.6128\n",
      "Epoch 18/300\n",
      "603/603 [==============================] - 3s 4ms/step - loss: 0.5062 - recall: 0.6583 - val_loss: 0.5104 - val_recall: 0.6118\n",
      "Epoch 19/300\n",
      "603/603 [==============================] - 3s 4ms/step - loss: 0.5051 - recall: 0.6736 - val_loss: 0.5118 - val_recall: 0.6393\n",
      "Epoch 20/300\n",
      "603/603 [==============================] - 3s 4ms/step - loss: 0.5036 - recall: 0.6600 - val_loss: 0.5148 - val_recall: 0.6033\n",
      "Epoch 21/300\n",
      "603/603 [==============================] - 3s 5ms/step - loss: 0.5033 - recall: 0.6727 - val_loss: 0.5170 - val_recall: 0.8037\n",
      "Epoch 22/300\n",
      "603/603 [==============================] - 3s 4ms/step - loss: 0.5022 - recall: 0.6623 - val_loss: 0.5111 - val_recall: 0.6520\n",
      "Epoch 23/300\n",
      "603/603 [==============================] - 3s 4ms/step - loss: 0.5009 - recall: 0.6830 - val_loss: 0.5089 - val_recall: 0.6516\n",
      "Epoch 24/300\n",
      "603/603 [==============================] - 3s 5ms/step - loss: 0.5007 - recall: 0.6764 - val_loss: 0.5076 - val_recall: 0.6379\n",
      "Epoch 25/300\n",
      "603/603 [==============================] - 3s 5ms/step - loss: 0.4995 - recall: 0.6807 - val_loss: 0.5108 - val_recall: 0.6888\n",
      "Epoch 26/300\n",
      "603/603 [==============================] - 3s 4ms/step - loss: 0.4983 - recall: 0.6831 - val_loss: 0.5093 - val_recall: 0.6327\n",
      "Epoch 27/300\n",
      "603/603 [==============================] - 3s 4ms/step - loss: 0.4979 - recall: 0.6834 - val_loss: 0.5084 - val_recall: 0.6721\n",
      "Epoch 28/300\n",
      "603/603 [==============================] - 3s 6ms/step - loss: 0.4968 - recall: 0.6838 - val_loss: 0.5074 - val_recall: 0.6774\n",
      "Epoch 29/300\n",
      "603/603 [==============================] - 3s 4ms/step - loss: 0.4962 - recall: 0.7023 - val_loss: 0.5070 - val_recall: 0.6924\n",
      "Epoch 30/300\n",
      "603/603 [==============================] - 3s 4ms/step - loss: 0.4946 - recall: 0.6995 - val_loss: 0.5064 - val_recall: 0.7106\n",
      "Epoch 31/300\n",
      "603/603 [==============================] - 3s 4ms/step - loss: 0.4941 - recall: 0.7073 - val_loss: 0.5042 - val_recall: 0.6654\n",
      "Epoch 32/300\n",
      "603/603 [==============================] - 4s 7ms/step - loss: 0.4933 - recall: 0.7031 - val_loss: 0.5070 - val_recall: 0.6896\n",
      "Epoch 33/300\n",
      "603/603 [==============================] - 3s 4ms/step - loss: 0.4924 - recall: 0.7083 - val_loss: 0.5044 - val_recall: 0.6693\n",
      "Epoch 34/300\n",
      "603/603 [==============================] - 3s 5ms/step - loss: 0.4905 - recall: 0.7187 - val_loss: 0.5051 - val_recall: 0.6743\n",
      "Epoch 35/300\n",
      "603/603 [==============================] - 3s 4ms/step - loss: 0.4895 - recall: 0.7048 - val_loss: 0.5045 - val_recall: 0.7450\n",
      "Epoch 36/300\n",
      "603/603 [==============================] - 3s 5ms/step - loss: 0.4886 - recall: 0.7112 - val_loss: 0.5058 - val_recall: 0.6299\n",
      "Epoch 37/300\n",
      "603/603 [==============================] - 3s 5ms/step - loss: 0.4878 - recall: 0.7100 - val_loss: 0.5055 - val_recall: 0.6958\n",
      "Epoch 38/300\n",
      "603/603 [==============================] - 3s 4ms/step - loss: 0.4868 - recall: 0.7053 - val_loss: 0.5032 - val_recall: 0.7198\n",
      "Epoch 39/300\n",
      "603/603 [==============================] - 3s 5ms/step - loss: 0.4860 - recall: 0.7169 - val_loss: 0.5002 - val_recall: 0.7358\n",
      "Epoch 40/300\n",
      "603/603 [==============================] - 3s 5ms/step - loss: 0.4848 - recall: 0.7281 - val_loss: 0.4999 - val_recall: 0.6786\n",
      "Epoch 41/300\n",
      "603/603 [==============================] - 3s 4ms/step - loss: 0.4840 - recall: 0.7210 - val_loss: 0.5061 - val_recall: 0.7327\n",
      "Epoch 42/300\n",
      "603/603 [==============================] - 3s 4ms/step - loss: 0.4832 - recall: 0.7242 - val_loss: 0.5038 - val_recall: 0.7347\n",
      "Epoch 43/300\n",
      "603/603 [==============================] - 3s 5ms/step - loss: 0.4819 - recall: 0.7214 - val_loss: 0.4998 - val_recall: 0.7425\n",
      "Epoch 44/300\n",
      "603/603 [==============================] - 3s 5ms/step - loss: 0.4814 - recall: 0.7257 - val_loss: 0.5018 - val_recall: 0.7444\n",
      "Epoch 45/300\n",
      "603/603 [==============================] - 3s 4ms/step - loss: 0.4813 - recall: 0.7267 - val_loss: 0.4986 - val_recall: 0.7117\n",
      "Epoch 46/300\n",
      "603/603 [==============================] - 3s 4ms/step - loss: 0.4793 - recall: 0.7275 - val_loss: 0.4997 - val_recall: 0.7510\n",
      "Epoch 47/300\n",
      "603/603 [==============================] - 3s 4ms/step - loss: 0.4785 - recall: 0.7312 - val_loss: 0.5008 - val_recall: 0.6870\n",
      "Epoch 48/300\n",
      "603/603 [==============================] - 3s 5ms/step - loss: 0.4771 - recall: 0.7338 - val_loss: 0.4990 - val_recall: 0.7707\n",
      "Epoch 49/300\n",
      "603/603 [==============================] - 3s 4ms/step - loss: 0.4770 - recall: 0.7332 - val_loss: 0.4982 - val_recall: 0.7046\n",
      "Epoch 50/300\n",
      "603/603 [==============================] - 3s 5ms/step - loss: 0.4756 - recall: 0.7402 - val_loss: 0.4983 - val_recall: 0.7505\n",
      "Epoch 51/300\n",
      "603/603 [==============================] - 3s 4ms/step - loss: 0.4746 - recall: 0.7379 - val_loss: 0.4991 - val_recall: 0.6627\n",
      "Epoch 52/300\n",
      "603/603 [==============================] - 3s 5ms/step - loss: 0.4732 - recall: 0.7300 - val_loss: 0.4991 - val_recall: 0.7697\n",
      "Epoch 53/300\n",
      "603/603 [==============================] - 4s 6ms/step - loss: 0.4732 - recall: 0.7400 - val_loss: 0.5013 - val_recall: 0.7363\n",
      "Epoch 54/300\n",
      "603/603 [==============================] - 3s 5ms/step - loss: 0.4718 - recall: 0.7393 - val_loss: 0.5026 - val_recall: 0.6821\n",
      "Epoch 55/300\n",
      "603/603 [==============================] - 3s 5ms/step - loss: 0.4706 - recall: 0.7300 - val_loss: 0.4948 - val_recall: 0.6954\n",
      "Epoch 56/300\n",
      "603/603 [==============================] - 3s 5ms/step - loss: 0.4699 - recall: 0.7336 - val_loss: 0.4978 - val_recall: 0.7518\n",
      "Epoch 57/300\n",
      "603/603 [==============================] - 3s 4ms/step - loss: 0.4693 - recall: 0.7384 - val_loss: 0.5007 - val_recall: 0.7183\n",
      "Epoch 58/300\n",
      "603/603 [==============================] - 3s 4ms/step - loss: 0.4691 - recall: 0.7309 - val_loss: 0.4998 - val_recall: 0.7360\n",
      "Epoch 59/300\n",
      "603/603 [==============================] - 3s 5ms/step - loss: 0.4688 - recall: 0.7348 - val_loss: 0.4955 - val_recall: 0.7432\n",
      "Epoch 60/300\n",
      "603/603 [==============================] - 3s 4ms/step - loss: 0.4676 - recall: 0.7445 - val_loss: 0.4963 - val_recall: 0.7152\n",
      "Epoch 61/300\n",
      "603/603 [==============================] - 3s 5ms/step - loss: 0.4663 - recall: 0.7410 - val_loss: 0.4927 - val_recall: 0.7462\n",
      "Epoch 62/300\n",
      "603/603 [==============================] - 3s 4ms/step - loss: 0.4646 - recall: 0.7464 - val_loss: 0.4964 - val_recall: 0.6601\n",
      "Epoch 63/300\n",
      "603/603 [==============================] - 3s 5ms/step - loss: 0.4637 - recall: 0.7521 - val_loss: 0.4960 - val_recall: 0.7739\n",
      "Epoch 64/300\n",
      "603/603 [==============================] - 3s 4ms/step - loss: 0.4637 - recall: 0.7512 - val_loss: 0.4953 - val_recall: 0.7296\n",
      "Epoch 65/300\n",
      "603/603 [==============================] - 3s 5ms/step - loss: 0.4628 - recall: 0.7421 - val_loss: 0.4983 - val_recall: 0.6970\n",
      "Epoch 66/300\n",
      "603/603 [==============================] - 3s 5ms/step - loss: 0.4618 - recall: 0.7460 - val_loss: 0.4971 - val_recall: 0.7538\n",
      "Epoch 67/300\n",
      "603/603 [==============================] - 3s 5ms/step - loss: 0.4611 - recall: 0.7526 - val_loss: 0.4943 - val_recall: 0.7536\n",
      "Epoch 68/300\n",
      "603/603 [==============================] - 3s 4ms/step - loss: 0.4604 - recall: 0.7496 - val_loss: 0.4946 - val_recall: 0.7297\n",
      "Epoch 69/300\n",
      "603/603 [==============================] - 3s 4ms/step - loss: 0.4588 - recall: 0.7492 - val_loss: 0.5013 - val_recall: 0.7275\n",
      "Epoch 70/300\n",
      "603/603 [==============================] - 3s 4ms/step - loss: 0.4588 - recall: 0.7507 - val_loss: 0.4930 - val_recall: 0.7591\n",
      "Epoch 71/300\n",
      "603/603 [==============================] - 3s 5ms/step - loss: 0.4585 - recall: 0.7522 - val_loss: 0.4962 - val_recall: 0.6768\n",
      "Epoch 72/300\n",
      "603/603 [==============================] - 3s 5ms/step - loss: 0.4575 - recall: 0.7491 - val_loss: 0.4932 - val_recall: 0.7516\n",
      "Epoch 73/300\n",
      "603/603 [==============================] - 3s 4ms/step - loss: 0.4564 - recall: 0.7509 - val_loss: 0.4936 - val_recall: 0.7095\n",
      "Epoch 74/300\n",
      "603/603 [==============================] - 3s 6ms/step - loss: 0.4561 - recall: 0.7575 - val_loss: 0.4962 - val_recall: 0.7093\n",
      "Epoch 75/300\n",
      "603/603 [==============================] - 3s 5ms/step - loss: 0.4554 - recall: 0.7554 - val_loss: 0.4937 - val_recall: 0.7372\n",
      "Epoch 76/300\n",
      "603/603 [==============================] - 3s 6ms/step - loss: 0.4536 - recall: 0.7569 - val_loss: 0.4919 - val_recall: 0.7337\n",
      "Epoch 77/300\n",
      "603/603 [==============================] - 3s 5ms/step - loss: 0.4531 - recall: 0.7539 - val_loss: 0.4905 - val_recall: 0.7763\n",
      "Epoch 78/300\n",
      "603/603 [==============================] - 3s 5ms/step - loss: 0.4518 - recall: 0.7536 - val_loss: 0.4932 - val_recall: 0.7509\n",
      "Epoch 79/300\n",
      "603/603 [==============================] - 3s 4ms/step - loss: 0.4529 - recall: 0.7564 - val_loss: 0.4893 - val_recall: 0.7416\n",
      "Epoch 80/300\n",
      "603/603 [==============================] - 3s 5ms/step - loss: 0.4505 - recall: 0.7606 - val_loss: 0.4881 - val_recall: 0.7340\n",
      "Epoch 81/300\n",
      "603/603 [==============================] - 3s 5ms/step - loss: 0.4501 - recall: 0.7580 - val_loss: 0.4969 - val_recall: 0.7474\n",
      "Epoch 82/300\n",
      "603/603 [==============================] - 3s 5ms/step - loss: 0.4493 - recall: 0.7628 - val_loss: 0.4946 - val_recall: 0.7426\n",
      "Epoch 83/300\n",
      "603/603 [==============================] - 3s 5ms/step - loss: 0.4483 - recall: 0.7640 - val_loss: 0.4934 - val_recall: 0.7098\n",
      "Epoch 84/300\n",
      "603/603 [==============================] - 3s 4ms/step - loss: 0.4479 - recall: 0.7650 - val_loss: 0.4912 - val_recall: 0.7423\n",
      "Epoch 85/300\n",
      "603/603 [==============================] - 3s 4ms/step - loss: 0.4471 - recall: 0.7707 - val_loss: 0.5035 - val_recall: 0.7663\n",
      "Epoch 86/300\n",
      "603/603 [==============================] - 3s 5ms/step - loss: 0.4470 - recall: 0.7694 - val_loss: 0.4899 - val_recall: 0.7359\n",
      "Epoch 87/300\n",
      "603/603 [==============================] - 3s 4ms/step - loss: 0.4465 - recall: 0.7696 - val_loss: 0.4917 - val_recall: 0.7805\n",
      "Epoch 88/300\n",
      "603/603 [==============================] - 3s 5ms/step - loss: 0.4444 - recall: 0.7699 - val_loss: 0.4923 - val_recall: 0.7286\n",
      "Epoch 89/300\n",
      "603/603 [==============================] - 3s 4ms/step - loss: 0.4432 - recall: 0.7756 - val_loss: 0.4948 - val_recall: 0.7429\n",
      "Epoch 90/300\n",
      "603/603 [==============================] - 3s 5ms/step - loss: 0.4431 - recall: 0.7699 - val_loss: 0.4886 - val_recall: 0.7222\n",
      "Epoch 91/300\n",
      "603/603 [==============================] - 3s 4ms/step - loss: 0.4436 - recall: 0.7693 - val_loss: 0.4909 - val_recall: 0.7367\n",
      "Epoch 92/300\n",
      "603/603 [==============================] - 3s 4ms/step - loss: 0.4418 - recall: 0.7715 - val_loss: 0.4908 - val_recall: 0.7828\n",
      "Epoch 93/300\n",
      "603/603 [==============================] - 3s 4ms/step - loss: 0.4409 - recall: 0.7720 - val_loss: 0.4888 - val_recall: 0.7692\n",
      "Epoch 94/300\n",
      "603/603 [==============================] - 4s 6ms/step - loss: 0.4398 - recall: 0.7753 - val_loss: 0.4919 - val_recall: 0.7242\n",
      "Epoch 95/300\n",
      "603/603 [==============================] - 3s 5ms/step - loss: 0.4395 - recall: 0.7723 - val_loss: 0.4931 - val_recall: 0.7043\n",
      "Epoch 96/300\n",
      "603/603 [==============================] - 3s 5ms/step - loss: 0.4383 - recall: 0.7784 - val_loss: 0.4887 - val_recall: 0.7531\n",
      "Epoch 97/300\n",
      "603/603 [==============================] - 3s 5ms/step - loss: 0.4383 - recall: 0.7798 - val_loss: 0.4951 - val_recall: 0.7691\n",
      "Epoch 98/300\n",
      "603/603 [==============================] - 3s 5ms/step - loss: 0.4378 - recall: 0.7806 - val_loss: 0.4945 - val_recall: 0.7012\n",
      "Epoch 99/300\n",
      "603/603 [==============================] - 3s 6ms/step - loss: 0.4372 - recall: 0.7857 - val_loss: 0.5033 - val_recall: 0.7079\n",
      "Epoch 100/300\n",
      "603/603 [==============================] - 3s 4ms/step - loss: 0.4356 - recall: 0.7863 - val_loss: 0.4941 - val_recall: 0.7284\n",
      "Epoch 101/300\n",
      "603/603 [==============================] - 3s 5ms/step - loss: 0.4359 - recall: 0.7816 - val_loss: 0.4902 - val_recall: 0.7303\n",
      "Epoch 102/300\n",
      "603/603 [==============================] - 3s 4ms/step - loss: 0.4350 - recall: 0.7763 - val_loss: 0.4893 - val_recall: 0.7268\n",
      "Epoch 103/300\n",
      "603/603 [==============================] - 3s 4ms/step - loss: 0.4335 - recall: 0.7819 - val_loss: 0.4876 - val_recall: 0.7613\n",
      "Epoch 104/300\n",
      "603/603 [==============================] - 3s 4ms/step - loss: 0.4335 - recall: 0.7832 - val_loss: 0.4899 - val_recall: 0.7470\n",
      "Epoch 105/300\n",
      "603/603 [==============================] - 3s 6ms/step - loss: 0.4339 - recall: 0.7811 - val_loss: 0.4853 - val_recall: 0.7495\n",
      "Epoch 106/300\n",
      "603/603 [==============================] - 3s 5ms/step - loss: 0.4329 - recall: 0.7843 - val_loss: 0.4959 - val_recall: 0.8022\n",
      "Epoch 107/300\n",
      "603/603 [==============================] - 3s 4ms/step - loss: 0.4335 - recall: 0.7844 - val_loss: 0.4915 - val_recall: 0.7366\n",
      "Epoch 108/300\n",
      "603/603 [==============================] - 3s 4ms/step - loss: 0.4319 - recall: 0.7828 - val_loss: 0.4943 - val_recall: 0.7693\n",
      "Epoch 109/300\n",
      "603/603 [==============================] - 3s 5ms/step - loss: 0.4328 - recall: 0.7822 - val_loss: 0.4958 - val_recall: 0.7601\n",
      "Epoch 110/300\n",
      "603/603 [==============================] - 3s 5ms/step - loss: 0.4329 - recall: 0.7824 - val_loss: 0.4907 - val_recall: 0.7614\n",
      "Epoch 111/300\n",
      "603/603 [==============================] - 3s 5ms/step - loss: 0.4320 - recall: 0.7789 - val_loss: 0.4958 - val_recall: 0.7405\n",
      "Epoch 112/300\n",
      "603/603 [==============================] - 3s 5ms/step - loss: 0.4309 - recall: 0.7802 - val_loss: 0.4999 - val_recall: 0.7839\n",
      "Epoch 113/300\n",
      "603/603 [==============================] - 3s 5ms/step - loss: 0.4297 - recall: 0.7884 - val_loss: 0.4991 - val_recall: 0.7387\n",
      "Epoch 114/300\n",
      "603/603 [==============================] - 3s 4ms/step - loss: 0.4276 - recall: 0.7833 - val_loss: 0.4950 - val_recall: 0.7776\n",
      "Epoch 115/300\n",
      "603/603 [==============================] - 3s 5ms/step - loss: 0.4277 - recall: 0.7816 - val_loss: 0.4891 - val_recall: 0.7814\n",
      "Epoch 116/300\n",
      "603/603 [==============================] - 3s 6ms/step - loss: 0.4281 - recall: 0.7839 - val_loss: 0.4835 - val_recall: 0.7637\n",
      "Epoch 117/300\n",
      "603/603 [==============================] - 3s 5ms/step - loss: 0.4265 - recall: 0.7865 - val_loss: 0.4954 - val_recall: 0.7421\n",
      "Epoch 118/300\n",
      "603/603 [==============================] - 3s 4ms/step - loss: 0.4260 - recall: 0.7847 - val_loss: 0.5051 - val_recall: 0.7531\n",
      "Epoch 119/300\n",
      "603/603 [==============================] - 3s 4ms/step - loss: 0.4252 - recall: 0.7903 - val_loss: 0.4973 - val_recall: 0.7779\n",
      "Epoch 120/300\n",
      "603/603 [==============================] - 3s 5ms/step - loss: 0.4250 - recall: 0.7879 - val_loss: 0.4920 - val_recall: 0.7706\n",
      "Epoch 121/300\n",
      "603/603 [==============================] - 3s 4ms/step - loss: 0.4247 - recall: 0.7911 - val_loss: 0.4974 - val_recall: 0.7479\n",
      "Epoch 122/300\n",
      "603/603 [==============================] - 4s 6ms/step - loss: 0.4249 - recall: 0.7870 - val_loss: 0.4888 - val_recall: 0.7694\n",
      "Epoch 123/300\n",
      "603/603 [==============================] - 3s 4ms/step - loss: 0.4251 - recall: 0.7895 - val_loss: 0.4947 - val_recall: 0.7757\n",
      "Epoch 124/300\n",
      "603/603 [==============================] - 3s 5ms/step - loss: 0.4250 - recall: 0.7888 - val_loss: 0.4942 - val_recall: 0.7873\n",
      "Epoch 125/300\n",
      "603/603 [==============================] - 3s 5ms/step - loss: 0.4237 - recall: 0.7888 - val_loss: 0.4936 - val_recall: 0.7702\n",
      "Epoch 126/300\n",
      "603/603 [==============================] - 3s 5ms/step - loss: 0.4232 - recall: 0.7899 - val_loss: 0.4925 - val_recall: 0.7652\n",
      "Epoch 127/300\n",
      "603/603 [==============================] - 3s 5ms/step - loss: 0.4216 - recall: 0.7942 - val_loss: 0.4932 - val_recall: 0.7514\n",
      "Epoch 128/300\n",
      "603/603 [==============================] - 3s 5ms/step - loss: 0.4223 - recall: 0.7809 - val_loss: 0.4962 - val_recall: 0.7621\n",
      "Epoch 129/300\n",
      "603/603 [==============================] - 3s 4ms/step - loss: 0.4223 - recall: 0.7795 - val_loss: 0.4889 - val_recall: 0.7471\n",
      "Epoch 130/300\n",
      "603/603 [==============================] - 3s 4ms/step - loss: 0.4216 - recall: 0.7858 - val_loss: 0.4798 - val_recall: 0.7523\n",
      "Epoch 131/300\n",
      "603/603 [==============================] - 3s 4ms/step - loss: 0.4202 - recall: 0.7836 - val_loss: 0.4921 - val_recall: 0.7700\n",
      "Epoch 132/300\n",
      "603/603 [==============================] - 3s 5ms/step - loss: 0.4194 - recall: 0.7907 - val_loss: 0.4893 - val_recall: 0.7581\n",
      "Epoch 133/300\n",
      "603/603 [==============================] - 3s 4ms/step - loss: 0.4189 - recall: 0.7942 - val_loss: 0.4953 - val_recall: 0.7753\n",
      "Epoch 134/300\n",
      "603/603 [==============================] - 4s 6ms/step - loss: 0.4175 - recall: 0.7950 - val_loss: 0.4876 - val_recall: 0.7732\n",
      "Epoch 135/300\n",
      "603/603 [==============================] - 3s 5ms/step - loss: 0.4186 - recall: 0.7958 - val_loss: 0.4829 - val_recall: 0.7579\n",
      "Epoch 136/300\n",
      "603/603 [==============================] - 3s 6ms/step - loss: 0.4166 - recall: 0.8001 - val_loss: 0.4999 - val_recall: 0.7702\n",
      "Epoch 137/300\n",
      "603/603 [==============================] - 3s 5ms/step - loss: 0.4169 - recall: 0.7975 - val_loss: 0.4953 - val_recall: 0.7849\n",
      "Epoch 138/300\n",
      "603/603 [==============================] - 3s 5ms/step - loss: 0.4172 - recall: 0.7946 - val_loss: 0.4973 - val_recall: 0.7839\n",
      "Epoch 139/300\n",
      "603/603 [==============================] - 3s 5ms/step - loss: 0.4168 - recall: 0.7998 - val_loss: 0.4925 - val_recall: 0.7747\n",
      "Epoch 140/300\n",
      "603/603 [==============================] - 3s 4ms/step - loss: 0.4148 - recall: 0.7920 - val_loss: 0.5022 - val_recall: 0.7707\n",
      "Epoch 141/300\n",
      "603/603 [==============================] - 3s 4ms/step - loss: 0.4145 - recall: 0.8021 - val_loss: 0.4962 - val_recall: 0.7892\n",
      "Epoch 142/300\n",
      "603/603 [==============================] - 3s 4ms/step - loss: 0.4155 - recall: 0.8021 - val_loss: 0.4897 - val_recall: 0.7632\n",
      "Epoch 143/300\n",
      "603/603 [==============================] - 3s 5ms/step - loss: 0.4145 - recall: 0.7947 - val_loss: 0.4964 - val_recall: 0.7564\n",
      "Epoch 144/300\n",
      "603/603 [==============================] - 3s 4ms/step - loss: 0.4135 - recall: 0.7972 - val_loss: 0.4980 - val_recall: 0.7753\n",
      "Epoch 145/300\n",
      "603/603 [==============================] - 3s 5ms/step - loss: 0.4123 - recall: 0.8044 - val_loss: 0.5054 - val_recall: 0.7505\n",
      "Epoch 146/300\n",
      "603/603 [==============================] - 3s 6ms/step - loss: 0.4143 - recall: 0.7968 - val_loss: 0.4913 - val_recall: 0.7643\n",
      "Epoch 147/300\n",
      "603/603 [==============================] - 3s 5ms/step - loss: 0.4135 - recall: 0.7965 - val_loss: 0.4920 - val_recall: 0.7939\n",
      "Epoch 148/300\n",
      "603/603 [==============================] - 3s 4ms/step - loss: 0.4116 - recall: 0.8009 - val_loss: 0.4942 - val_recall: 0.7710\n",
      "Epoch 149/300\n",
      "603/603 [==============================] - 3s 5ms/step - loss: 0.4134 - recall: 0.8014 - val_loss: 0.4927 - val_recall: 0.7742\n",
      "Epoch 150/300\n",
      "603/603 [==============================] - 3s 5ms/step - loss: 0.4122 - recall: 0.8096 - val_loss: 0.4933 - val_recall: 0.7880\n",
      "Epoch 151/300\n",
      "603/603 [==============================] - 3s 5ms/step - loss: 0.4135 - recall: 0.8019 - val_loss: 0.4860 - val_recall: 0.7724\n",
      "Epoch 152/300\n",
      "603/603 [==============================] - 3s 4ms/step - loss: 0.4102 - recall: 0.8055 - val_loss: 0.4947 - val_recall: 0.7642\n",
      "Epoch 153/300\n",
      "603/603 [==============================] - 3s 4ms/step - loss: 0.4096 - recall: 0.8050 - val_loss: 0.4946 - val_recall: 0.7427\n",
      "Epoch 154/300\n",
      "603/603 [==============================] - 3s 5ms/step - loss: 0.4103 - recall: 0.7995 - val_loss: 0.4987 - val_recall: 0.7616\n",
      "Epoch 155/300\n",
      "603/603 [==============================] - 3s 4ms/step - loss: 0.4090 - recall: 0.8066 - val_loss: 0.4927 - val_recall: 0.7499\n",
      "Epoch 156/300\n",
      "603/603 [==============================] - 3s 4ms/step - loss: 0.4078 - recall: 0.8050 - val_loss: 0.4869 - val_recall: 0.7865\n",
      "Epoch 157/300\n",
      "603/603 [==============================] - 4s 7ms/step - loss: 0.4091 - recall: 0.8056 - val_loss: 0.4890 - val_recall: 0.7724\n",
      "Epoch 158/300\n",
      "603/603 [==============================] - 4s 6ms/step - loss: 0.4087 - recall: 0.8029 - val_loss: 0.5012 - val_recall: 0.7560\n",
      "Epoch 159/300\n",
      "603/603 [==============================] - 3s 5ms/step - loss: 0.4092 - recall: 0.8069 - val_loss: 0.4918 - val_recall: 0.7856\n",
      "Epoch 160/300\n",
      "603/603 [==============================] - 3s 5ms/step - loss: 0.4081 - recall: 0.8040 - val_loss: 0.4928 - val_recall: 0.7769\n",
      "Epoch 161/300\n",
      "603/603 [==============================] - 3s 5ms/step - loss: 0.4069 - recall: 0.8068 - val_loss: 0.5013 - val_recall: 0.7785\n",
      "Epoch 162/300\n",
      "603/603 [==============================] - 3s 5ms/step - loss: 0.4065 - recall: 0.8056 - val_loss: 0.4920 - val_recall: 0.7962\n",
      "Epoch 163/300\n",
      "603/603 [==============================] - 3s 4ms/step - loss: 0.4072 - recall: 0.8028 - val_loss: 0.4940 - val_recall: 0.7535\n",
      "Epoch 164/300\n",
      "603/603 [==============================] - 3s 4ms/step - loss: 0.4047 - recall: 0.8094 - val_loss: 0.4892 - val_recall: 0.7987\n",
      "Epoch 165/300\n",
      "603/603 [==============================] - 3s 5ms/step - loss: 0.4062 - recall: 0.8109 - val_loss: 0.5001 - val_recall: 0.7593\n",
      "Epoch 166/300\n",
      "603/603 [==============================] - 3s 5ms/step - loss: 0.4084 - recall: 0.8090 - val_loss: 0.5082 - val_recall: 0.7964\n",
      "Epoch 167/300\n",
      "603/603 [==============================] - 3s 4ms/step - loss: 0.4054 - recall: 0.8045 - val_loss: 0.4906 - val_recall: 0.7837\n",
      "Epoch 168/300\n",
      "603/603 [==============================] - 3s 4ms/step - loss: 0.4066 - recall: 0.8082 - val_loss: 0.4944 - val_recall: 0.7675\n",
      "Epoch 169/300\n",
      "603/603 [==============================] - 4s 7ms/step - loss: 0.4055 - recall: 0.8057 - val_loss: 0.4933 - val_recall: 0.7800\n",
      "Epoch 170/300\n",
      "603/603 [==============================] - 4s 6ms/step - loss: 0.4053 - recall: 0.8103 - val_loss: 0.4979 - val_recall: 0.7852\n",
      "Epoch 171/300\n",
      "603/603 [==============================] - 3s 4ms/step - loss: 0.4030 - recall: 0.8143 - val_loss: 0.5037 - val_recall: 0.7648\n",
      "Epoch 172/300\n",
      "603/603 [==============================] - 3s 4ms/step - loss: 0.4052 - recall: 0.8126 - val_loss: 0.4939 - val_recall: 0.7902\n",
      "Epoch 173/300\n",
      "603/603 [==============================] - 3s 5ms/step - loss: 0.4043 - recall: 0.8090 - val_loss: 0.5037 - val_recall: 0.7750\n",
      "Epoch 174/300\n",
      "603/603 [==============================] - 3s 4ms/step - loss: 0.4026 - recall: 0.8148 - val_loss: 0.5036 - val_recall: 0.7759\n",
      "Epoch 175/300\n",
      "603/603 [==============================] - 3s 4ms/step - loss: 0.4025 - recall: 0.8161 - val_loss: 0.4860 - val_recall: 0.7983\n",
      "Epoch 176/300\n",
      "603/603 [==============================] - 3s 4ms/step - loss: 0.4017 - recall: 0.8170 - val_loss: 0.4975 - val_recall: 0.7820\n",
      "Epoch 177/300\n",
      "603/603 [==============================] - 3s 6ms/step - loss: 0.4021 - recall: 0.8097 - val_loss: 0.4918 - val_recall: 0.7593\n",
      "Epoch 178/300\n",
      "603/603 [==============================] - 3s 4ms/step - loss: 0.4014 - recall: 0.8110 - val_loss: 0.4870 - val_recall: 0.7958\n",
      "Epoch 179/300\n",
      "603/603 [==============================] - 3s 5ms/step - loss: 0.4034 - recall: 0.8057 - val_loss: 0.4990 - val_recall: 0.7797\n",
      "Epoch 180/300\n",
      "603/603 [==============================] - 3s 5ms/step - loss: 0.4000 - recall: 0.8133 - val_loss: 0.5035 - val_recall: 0.7855\n",
      "Epoch 181/300\n",
      "603/603 [==============================] - 4s 7ms/step - loss: 0.4046 - recall: 0.8133 - val_loss: 0.4897 - val_recall: 0.8032\n",
      "Epoch 182/300\n",
      "603/603 [==============================] - 3s 5ms/step - loss: 0.3999 - recall: 0.8116 - val_loss: 0.4883 - val_recall: 0.7751\n",
      "Epoch 183/300\n",
      "603/603 [==============================] - 3s 4ms/step - loss: 0.3994 - recall: 0.8113 - val_loss: 0.4914 - val_recall: 0.7917\n",
      "Epoch 184/300\n",
      "603/603 [==============================] - 3s 5ms/step - loss: 0.4019 - recall: 0.8051 - val_loss: 0.4897 - val_recall: 0.7781\n",
      "Epoch 185/300\n",
      "603/603 [==============================] - 3s 5ms/step - loss: 0.3999 - recall: 0.8111 - val_loss: 0.4860 - val_recall: 0.7980\n",
      "Epoch 186/300\n",
      "603/603 [==============================] - 3s 5ms/step - loss: 0.4002 - recall: 0.8116 - val_loss: 0.4993 - val_recall: 0.7864\n",
      "Epoch 187/300\n",
      "603/603 [==============================] - 3s 5ms/step - loss: 0.3997 - recall: 0.8138 - val_loss: 0.4938 - val_recall: 0.7881\n",
      "Epoch 188/300\n",
      "603/603 [==============================] - 3s 5ms/step - loss: 0.3990 - recall: 0.8153 - val_loss: 0.4923 - val_recall: 0.7688\n",
      "Epoch 189/300\n",
      "603/603 [==============================] - 3s 4ms/step - loss: 0.3991 - recall: 0.8132 - val_loss: 0.4906 - val_recall: 0.7754\n",
      "Epoch 190/300\n",
      "603/603 [==============================] - 3s 4ms/step - loss: 0.3982 - recall: 0.8119 - val_loss: 0.4965 - val_recall: 0.7718\n",
      "Epoch 191/300\n",
      "603/603 [==============================] - 3s 4ms/step - loss: 0.3981 - recall: 0.8193 - val_loss: 0.4930 - val_recall: 0.8021\n",
      "Epoch 192/300\n",
      "603/603 [==============================] - 3s 5ms/step - loss: 0.3980 - recall: 0.8222 - val_loss: 0.4932 - val_recall: 0.7795\n",
      "Epoch 193/300\n",
      "603/603 [==============================] - 3s 6ms/step - loss: 0.3970 - recall: 0.8146 - val_loss: 0.4975 - val_recall: 0.7876\n",
      "Epoch 194/300\n",
      "603/603 [==============================] - 3s 6ms/step - loss: 0.3954 - recall: 0.8183 - val_loss: 0.4908 - val_recall: 0.7921\n",
      "Epoch 195/300\n",
      "603/603 [==============================] - 3s 5ms/step - loss: 0.3958 - recall: 0.8124 - val_loss: 0.4838 - val_recall: 0.7560\n",
      "Epoch 196/300\n",
      "603/603 [==============================] - 3s 4ms/step - loss: 0.3943 - recall: 0.8159 - val_loss: 0.4949 - val_recall: 0.7685\n",
      "Epoch 197/300\n",
      "603/603 [==============================] - 3s 5ms/step - loss: 0.3952 - recall: 0.8086 - val_loss: 0.4931 - val_recall: 0.7912\n",
      "Epoch 198/300\n",
      "603/603 [==============================] - 3s 5ms/step - loss: 0.3947 - recall: 0.8111 - val_loss: 0.4955 - val_recall: 0.8132\n",
      "Epoch 199/300\n",
      "603/603 [==============================] - 3s 5ms/step - loss: 0.3935 - recall: 0.8245 - val_loss: 0.5052 - val_recall: 0.8040\n",
      "Epoch 200/300\n",
      "603/603 [==============================] - 3s 5ms/step - loss: 0.3939 - recall: 0.8239 - val_loss: 0.4953 - val_recall: 0.8039\n",
      "Epoch 201/300\n",
      "603/603 [==============================] - 3s 4ms/step - loss: 0.3938 - recall: 0.8197 - val_loss: 0.4978 - val_recall: 0.7850\n",
      "Epoch 202/300\n",
      "603/603 [==============================] - 3s 4ms/step - loss: 0.3958 - recall: 0.8198 - val_loss: 0.4896 - val_recall: 0.7939\n",
      "Epoch 203/300\n",
      "603/603 [==============================] - 3s 6ms/step - loss: 0.3951 - recall: 0.8265 - val_loss: 0.4980 - val_recall: 0.8047\n",
      "Epoch 204/300\n",
      "603/603 [==============================] - 3s 4ms/step - loss: 0.3947 - recall: 0.8170 - val_loss: 0.4873 - val_recall: 0.7695\n",
      "Epoch 205/300\n",
      "603/603 [==============================] - 4s 6ms/step - loss: 0.3950 - recall: 0.8189 - val_loss: 0.4892 - val_recall: 0.8041\n",
      "Epoch 206/300\n",
      "603/603 [==============================] - 4s 6ms/step - loss: 0.3915 - recall: 0.8223 - val_loss: 0.5084 - val_recall: 0.7765\n",
      "Epoch 207/300\n",
      "603/603 [==============================] - 3s 4ms/step - loss: 0.3915 - recall: 0.8204 - val_loss: 0.4915 - val_recall: 0.8010\n",
      "Epoch 208/300\n",
      "603/603 [==============================] - 3s 4ms/step - loss: 0.3922 - recall: 0.8210 - val_loss: 0.5029 - val_recall: 0.7889\n",
      "Epoch 209/300\n",
      "603/603 [==============================] - 3s 4ms/step - loss: 0.3917 - recall: 0.8173 - val_loss: 0.4981 - val_recall: 0.7778\n",
      "Epoch 210/300\n",
      "603/603 [==============================] - 3s 5ms/step - loss: 0.3917 - recall: 0.8213 - val_loss: 0.4996 - val_recall: 0.7807\n",
      "Epoch 211/300\n",
      "603/603 [==============================] - 3s 4ms/step - loss: 0.3923 - recall: 0.8226 - val_loss: 0.5033 - val_recall: 0.7933\n",
      "Epoch 212/300\n",
      "603/603 [==============================] - 3s 4ms/step - loss: 0.3904 - recall: 0.8210 - val_loss: 0.4877 - val_recall: 0.8032\n",
      "Epoch 213/300\n",
      "603/603 [==============================] - 3s 4ms/step - loss: 0.3889 - recall: 0.8203 - val_loss: 0.5021 - val_recall: 0.7816\n",
      "Epoch 214/300\n",
      "603/603 [==============================] - 3s 6ms/step - loss: 0.3920 - recall: 0.8190 - val_loss: 0.4942 - val_recall: 0.7973\n",
      "Epoch 215/300\n",
      "603/603 [==============================] - 3s 4ms/step - loss: 0.3898 - recall: 0.8209 - val_loss: 0.5070 - val_recall: 0.7843\n",
      "Epoch 216/300\n",
      "603/603 [==============================] - 3s 4ms/step - loss: 0.3911 - recall: 0.8182 - val_loss: 0.5008 - val_recall: 0.8106\n",
      "Epoch 217/300\n",
      "603/603 [==============================] - 3s 5ms/step - loss: 0.3910 - recall: 0.8201 - val_loss: 0.4933 - val_recall: 0.7804\n",
      "Epoch 218/300\n",
      "603/603 [==============================] - 5s 8ms/step - loss: 0.3900 - recall: 0.8148 - val_loss: 0.4863 - val_recall: 0.7835\n",
      "Epoch 219/300\n",
      "603/603 [==============================] - 3s 5ms/step - loss: 0.3904 - recall: 0.8202 - val_loss: 0.5180 - val_recall: 0.7926\n",
      "Epoch 220/300\n",
      "603/603 [==============================] - 3s 5ms/step - loss: 0.3886 - recall: 0.8197 - val_loss: 0.5034 - val_recall: 0.7822\n",
      "Epoch 221/300\n",
      "603/603 [==============================] - 3s 5ms/step - loss: 0.3891 - recall: 0.8172 - val_loss: 0.4953 - val_recall: 0.7872\n",
      "Epoch 222/300\n",
      "603/603 [==============================] - 3s 4ms/step - loss: 0.3885 - recall: 0.8246 - val_loss: 0.5105 - val_recall: 0.8152\n",
      "Epoch 223/300\n",
      "603/603 [==============================] - 3s 4ms/step - loss: 0.3875 - recall: 0.8222 - val_loss: 0.4949 - val_recall: 0.7895\n",
      "Epoch 224/300\n",
      "603/603 [==============================] - 3s 5ms/step - loss: 0.3883 - recall: 0.8214 - val_loss: 0.4912 - val_recall: 0.7992\n",
      "Epoch 225/300\n",
      "603/603 [==============================] - 3s 5ms/step - loss: 0.3884 - recall: 0.8193 - val_loss: 0.4932 - val_recall: 0.7941\n",
      "Epoch 226/300\n",
      "603/603 [==============================] - 3s 4ms/step - loss: 0.3887 - recall: 0.8160 - val_loss: 0.4915 - val_recall: 0.7756\n",
      "Epoch 227/300\n",
      "603/603 [==============================] - 3s 4ms/step - loss: 0.3877 - recall: 0.8190 - val_loss: 0.5015 - val_recall: 0.7992\n",
      "Epoch 228/300\n",
      "603/603 [==============================] - 3s 4ms/step - loss: 0.3875 - recall: 0.8217 - val_loss: 0.4949 - val_recall: 0.7933\n",
      "Epoch 229/300\n",
      "603/603 [==============================] - 3s 5ms/step - loss: 0.3877 - recall: 0.8261 - val_loss: 0.4987 - val_recall: 0.7844\n",
      "Epoch 230/300\n",
      "603/603 [==============================] - 3s 6ms/step - loss: 0.3867 - recall: 0.8191 - val_loss: 0.5011 - val_recall: 0.7956\n",
      "Epoch 231/300\n",
      "603/603 [==============================] - 4s 6ms/step - loss: 0.3875 - recall: 0.8271 - val_loss: 0.4938 - val_recall: 0.7974\n",
      "Epoch 232/300\n",
      "603/603 [==============================] - 3s 5ms/step - loss: 0.3884 - recall: 0.8215 - val_loss: 0.4858 - val_recall: 0.7679\n",
      "Epoch 233/300\n",
      "603/603 [==============================] - 3s 4ms/step - loss: 0.3883 - recall: 0.8211 - val_loss: 0.4784 - val_recall: 0.8077\n",
      "Epoch 234/300\n",
      "603/603 [==============================] - 3s 4ms/step - loss: 0.3879 - recall: 0.8239 - val_loss: 0.4919 - val_recall: 0.7972\n",
      "Epoch 235/300\n",
      "603/603 [==============================] - 3s 5ms/step - loss: 0.3885 - recall: 0.8166 - val_loss: 0.4885 - val_recall: 0.7848\n",
      "Epoch 236/300\n",
      "603/603 [==============================] - 3s 5ms/step - loss: 0.3868 - recall: 0.8198 - val_loss: 0.5021 - val_recall: 0.7836\n",
      "Epoch 237/300\n",
      "603/603 [==============================] - 3s 5ms/step - loss: 0.3856 - recall: 0.8186 - val_loss: 0.4917 - val_recall: 0.7940\n",
      "Epoch 238/300\n",
      "603/603 [==============================] - 3s 5ms/step - loss: 0.3866 - recall: 0.8244 - val_loss: 0.4853 - val_recall: 0.7962\n",
      "Epoch 239/300\n",
      "603/603 [==============================] - 3s 4ms/step - loss: 0.3860 - recall: 0.8234 - val_loss: 0.4883 - val_recall: 0.8009\n",
      "Epoch 240/300\n",
      "603/603 [==============================] - 3s 5ms/step - loss: 0.3841 - recall: 0.8330 - val_loss: 0.4917 - val_recall: 0.8103\n",
      "Epoch 241/300\n",
      "603/603 [==============================] - 3s 4ms/step - loss: 0.3838 - recall: 0.8299 - val_loss: 0.5014 - val_recall: 0.7870\n",
      "Epoch 242/300\n",
      "603/603 [==============================] - 4s 6ms/step - loss: 0.3838 - recall: 0.8205 - val_loss: 0.4981 - val_recall: 0.7803\n",
      "Epoch 243/300\n",
      "603/603 [==============================] - 4s 6ms/step - loss: 0.3838 - recall: 0.8236 - val_loss: 0.5036 - val_recall: 0.7936\n",
      "Epoch 244/300\n",
      "603/603 [==============================] - 3s 5ms/step - loss: 0.3869 - recall: 0.8242 - val_loss: 0.5028 - val_recall: 0.7722\n",
      "Epoch 245/300\n",
      "603/603 [==============================] - 3s 4ms/step - loss: 0.3858 - recall: 0.8196 - val_loss: 0.4938 - val_recall: 0.7910\n",
      "Epoch 246/300\n",
      "603/603 [==============================] - 3s 5ms/step - loss: 0.3837 - recall: 0.8266 - val_loss: 0.4930 - val_recall: 0.8110\n",
      "Epoch 247/300\n",
      "603/603 [==============================] - 3s 5ms/step - loss: 0.3850 - recall: 0.8257 - val_loss: 0.4884 - val_recall: 0.7913\n",
      "Epoch 248/300\n",
      "603/603 [==============================] - 3s 4ms/step - loss: 0.3836 - recall: 0.8252 - val_loss: 0.4895 - val_recall: 0.7841\n",
      "Epoch 249/300\n",
      "603/603 [==============================] - 3s 4ms/step - loss: 0.3837 - recall: 0.8256 - val_loss: 0.4931 - val_recall: 0.7994\n",
      "Epoch 250/300\n",
      "603/603 [==============================] - 3s 4ms/step - loss: 0.3821 - recall: 0.8263 - val_loss: 0.4769 - val_recall: 0.8061\n",
      "Epoch 251/300\n",
      "603/603 [==============================] - 3s 5ms/step - loss: 0.3845 - recall: 0.8265 - val_loss: 0.5003 - val_recall: 0.7825\n",
      "Epoch 252/300\n",
      "603/603 [==============================] - 3s 4ms/step - loss: 0.3860 - recall: 0.8249 - val_loss: 0.4915 - val_recall: 0.7955\n",
      "Epoch 253/300\n",
      "603/603 [==============================] - 3s 4ms/step - loss: 0.3851 - recall: 0.8215 - val_loss: 0.4912 - val_recall: 0.7993\n",
      "Epoch 254/300\n",
      "603/603 [==============================] - 3s 4ms/step - loss: 0.3835 - recall: 0.8294 - val_loss: 0.5038 - val_recall: 0.8030\n",
      "Epoch 255/300\n",
      "603/603 [==============================] - 4s 6ms/step - loss: 0.3835 - recall: 0.8280 - val_loss: 0.4922 - val_recall: 0.8088\n",
      "Epoch 256/300\n",
      "603/603 [==============================] - 4s 7ms/step - loss: 0.3825 - recall: 0.8302 - val_loss: 0.5036 - val_recall: 0.8024\n",
      "Epoch 257/300\n",
      "603/603 [==============================] - 3s 6ms/step - loss: 0.3832 - recall: 0.8381 - val_loss: 0.5000 - val_recall: 0.8016\n",
      "Epoch 258/300\n",
      "603/603 [==============================] - 3s 5ms/step - loss: 0.3844 - recall: 0.8303 - val_loss: 0.4871 - val_recall: 0.8237\n",
      "Epoch 259/300\n",
      "603/603 [==============================] - 3s 5ms/step - loss: 0.3850 - recall: 0.8301 - val_loss: 0.4874 - val_recall: 0.8002\n",
      "Epoch 260/300\n",
      "603/603 [==============================] - 3s 4ms/step - loss: 0.3848 - recall: 0.8294 - val_loss: 0.4869 - val_recall: 0.7978\n",
      "Epoch 261/300\n",
      "603/603 [==============================] - 3s 4ms/step - loss: 0.3806 - recall: 0.8330 - val_loss: 0.5038 - val_recall: 0.7953\n",
      "Epoch 262/300\n",
      "603/603 [==============================] - 3s 5ms/step - loss: 0.3804 - recall: 0.8328 - val_loss: 0.4954 - val_recall: 0.7976\n",
      "Epoch 263/300\n",
      "603/603 [==============================] - 3s 4ms/step - loss: 0.3812 - recall: 0.8352 - val_loss: 0.4989 - val_recall: 0.8086\n",
      "Epoch 264/300\n",
      "603/603 [==============================] - 3s 5ms/step - loss: 0.3819 - recall: 0.8383 - val_loss: 0.4892 - val_recall: 0.8100\n",
      "Epoch 265/300\n",
      "603/603 [==============================] - 3s 4ms/step - loss: 0.3808 - recall: 0.8336 - val_loss: 0.4983 - val_recall: 0.8121\n",
      "Epoch 266/300\n",
      "603/603 [==============================] - 3s 5ms/step - loss: 0.3805 - recall: 0.8368 - val_loss: 0.5147 - val_recall: 0.8006\n",
      "Epoch 267/300\n",
      "603/603 [==============================] - 3s 4ms/step - loss: 0.3835 - recall: 0.8308 - val_loss: 0.4928 - val_recall: 0.7932\n",
      "Epoch 268/300\n",
      "603/603 [==============================] - 3s 5ms/step - loss: 0.3783 - recall: 0.8340 - val_loss: 0.5004 - val_recall: 0.7918\n",
      "Epoch 269/300\n",
      "603/603 [==============================] - 3s 5ms/step - loss: 0.3813 - recall: 0.8333 - val_loss: 0.4950 - val_recall: 0.8050\n",
      "Epoch 270/300\n",
      "603/603 [==============================] - 3s 5ms/step - loss: 0.3802 - recall: 0.8306 - val_loss: 0.4999 - val_recall: 0.8015\n",
      "Epoch 271/300\n",
      "603/603 [==============================] - 3s 5ms/step - loss: 0.3818 - recall: 0.8322 - val_loss: 0.4968 - val_recall: 0.7801\n",
      "Epoch 272/300\n",
      "603/603 [==============================] - 3s 4ms/step - loss: 0.3844 - recall: 0.8220 - val_loss: 0.5012 - val_recall: 0.8052\n",
      "Epoch 273/300\n",
      "603/603 [==============================] - 3s 5ms/step - loss: 0.3825 - recall: 0.8269 - val_loss: 0.4962 - val_recall: 0.8081\n",
      "Epoch 274/300\n",
      "603/603 [==============================] - 3s 5ms/step - loss: 0.3805 - recall: 0.8352 - val_loss: 0.5000 - val_recall: 0.8143\n",
      "Epoch 275/300\n",
      "603/603 [==============================] - 3s 4ms/step - loss: 0.3801 - recall: 0.8339 - val_loss: 0.4978 - val_recall: 0.8078\n",
      "Epoch 276/300\n",
      "603/603 [==============================] - 3s 4ms/step - loss: 0.3769 - recall: 0.8309 - val_loss: 0.4971 - val_recall: 0.7993\n",
      "Epoch 277/300\n",
      "603/603 [==============================] - 3s 4ms/step - loss: 0.3788 - recall: 0.8311 - val_loss: 0.5009 - val_recall: 0.8011\n",
      "Epoch 278/300\n",
      "603/603 [==============================] - 3s 5ms/step - loss: 0.3811 - recall: 0.8269 - val_loss: 0.4867 - val_recall: 0.7962\n",
      "Epoch 279/300\n",
      "603/603 [==============================] - 5s 8ms/step - loss: 0.3849 - recall: 0.8310 - val_loss: 0.4923 - val_recall: 0.7950\n",
      "Epoch 280/300\n",
      "603/603 [==============================] - 4s 6ms/step - loss: 0.3836 - recall: 0.8257 - val_loss: 0.4937 - val_recall: 0.8118\n",
      "Epoch 281/300\n",
      "603/603 [==============================] - 3s 5ms/step - loss: 0.3821 - recall: 0.8337 - val_loss: 0.4901 - val_recall: 0.7846\n",
      "Epoch 282/300\n",
      "603/603 [==============================] - 3s 4ms/step - loss: 0.3854 - recall: 0.8298 - val_loss: 0.4927 - val_recall: 0.7896\n",
      "Epoch 283/300\n",
      "603/603 [==============================] - 3s 4ms/step - loss: 0.3803 - recall: 0.8322 - val_loss: 0.5034 - val_recall: 0.8033\n",
      "Epoch 284/300\n",
      "603/603 [==============================] - 3s 5ms/step - loss: 0.3835 - recall: 0.8238 - val_loss: 0.4808 - val_recall: 0.8074\n",
      "Epoch 285/300\n",
      "603/603 [==============================] - 3s 4ms/step - loss: 0.3845 - recall: 0.8307 - val_loss: 0.4977 - val_recall: 0.8272\n",
      "Epoch 286/300\n",
      "603/603 [==============================] - 3s 4ms/step - loss: 0.3795 - recall: 0.8351 - val_loss: 0.5005 - val_recall: 0.7992\n",
      "Epoch 287/300\n",
      "603/603 [==============================] - 3s 4ms/step - loss: 0.3806 - recall: 0.8295 - val_loss: 0.4845 - val_recall: 0.7905\n",
      "Epoch 288/300\n",
      "603/603 [==============================] - 3s 5ms/step - loss: 0.3770 - recall: 0.8325 - val_loss: 0.4868 - val_recall: 0.8116\n",
      "Epoch 289/300\n",
      "603/603 [==============================] - 3s 5ms/step - loss: 0.3790 - recall: 0.8338 - val_loss: 0.4966 - val_recall: 0.8178\n",
      "Epoch 290/300\n",
      "603/603 [==============================] - 3s 5ms/step - loss: 0.3786 - recall: 0.8420 - val_loss: 0.4893 - val_recall: 0.8227\n",
      "Epoch 291/300\n",
      "603/603 [==============================] - 3s 5ms/step - loss: 0.3790 - recall: 0.8355 - val_loss: 0.4823 - val_recall: 0.8182\n",
      "Epoch 292/300\n",
      "603/603 [==============================] - 3s 5ms/step - loss: 0.3756 - recall: 0.8383 - val_loss: 0.5215 - val_recall: 0.7654\n",
      "Epoch 293/300\n",
      "603/603 [==============================] - 3s 4ms/step - loss: 0.3788 - recall: 0.8356 - val_loss: 0.5123 - val_recall: 0.8021\n",
      "Epoch 294/300\n",
      "603/603 [==============================] - 3s 4ms/step - loss: 0.3782 - recall: 0.8376 - val_loss: 0.4965 - val_recall: 0.8010\n",
      "Epoch 295/300\n",
      "603/603 [==============================] - 3s 4ms/step - loss: 0.3794 - recall: 0.8366 - val_loss: 0.4845 - val_recall: 0.7939\n",
      "Epoch 296/300\n",
      "603/603 [==============================] - 3s 5ms/step - loss: 0.3766 - recall: 0.8380 - val_loss: 0.4847 - val_recall: 0.8096\n",
      "Epoch 297/300\n",
      "603/603 [==============================] - 3s 5ms/step - loss: 0.3777 - recall: 0.8366 - val_loss: 0.4759 - val_recall: 0.8134\n",
      "Epoch 298/300\n",
      "603/603 [==============================] - 3s 4ms/step - loss: 0.3750 - recall: 0.8378 - val_loss: 0.4890 - val_recall: 0.7890\n",
      "Epoch 299/300\n",
      "603/603 [==============================] - 3s 6ms/step - loss: 0.3745 - recall: 0.8360 - val_loss: 0.4954 - val_recall: 0.7898\n",
      "Epoch 300/300\n",
      "603/603 [==============================] - 3s 5ms/step - loss: 0.3749 - recall: 0.8406 - val_loss: 0.4796 - val_recall: 0.8125\n"
     ]
    }
   ],
   "source": [
    "history = model.fit(x=X_train,y=y_train.values,validation_data=(X_test,y_test.values),batch_size=256,epochs=300)"
   ]
  },
  {
   "cell_type": "markdown",
   "metadata": {
    "papermill": {
     "duration": 4.012914,
     "end_time": "2021-01-14T23:12:04.815243",
     "exception": false,
     "start_time": "2021-01-14T23:12:00.802329",
     "status": "completed"
    },
    "tags": []
   },
   "source": [
    "### Evaluating the model\n",
    "\n",
    "* Training loss per epoch\n",
    "* Model evaluation on test data\n",
    "* Confusion Matrix\n",
    "* Classification Report"
   ]
  },
  {
   "cell_type": "markdown",
   "metadata": {
    "papermill": {
     "duration": 3.950121,
     "end_time": "2021-01-14T23:12:12.875899",
     "exception": false,
     "start_time": "2021-01-14T23:12:08.925778",
     "status": "completed"
    },
    "tags": []
   },
   "source": [
    "#### Training loss per epoch"
   ]
  },
  {
   "cell_type": "code",
   "execution_count": 34,
   "metadata": {
    "execution": {
     "iopub.execute_input": "2021-01-14T23:12:21.024865Z",
     "iopub.status.busy": "2021-01-14T23:12:21.024023Z",
     "iopub.status.idle": "2021-01-14T23:12:21.170233Z",
     "shell.execute_reply": "2021-01-14T23:12:21.170651Z"
    },
    "papermill": {
     "duration": 4.060142,
     "end_time": "2021-01-14T23:12:21.170765",
     "exception": false,
     "start_time": "2021-01-14T23:12:17.110623",
     "status": "completed"
    },
    "tags": []
   },
   "outputs": [
    {
     "data": {
      "image/png": "[encoded data removed]",
      "text/plain": [
       "<Figure size 1080x360 with 1 Axes>"
      ]
     },
     "metadata": {
      "needs_background": "light"
     },
     "output_type": "display_data"
    }
   ],
   "source": [
    "loss = history.history['loss']\n",
    "val_loss = history.history['val_loss']\n",
    "\n",
    "plt.figure(figsize=(15,5))\n",
    "plt.plot(loss,lw=3)\n",
    "plt.plot(val_loss,lw=3)\n",
    "plt.title('Training Loss per Epoch')\n",
    "plt.xlabel('Epochs')\n",
    "plt.ylabel('Loss')\n",
    "plt.legend(['Loss', 'Validation loss'], loc='upper left')\n",
    "sns.despine()"
   ]
  },
  {
   "cell_type": "markdown",
   "metadata": {
    "papermill": {
     "duration": 4.652858,
     "end_time": "2021-01-14T23:12:29.761638",
     "exception": false,
     "start_time": "2021-01-14T23:12:25.108780",
     "status": "completed"
    },
    "tags": []
   },
   "source": [
    "#### Model evaluation on test data"
   ]
  },
  {
   "cell_type": "code",
   "execution_count": 35,
   "metadata": {
    "execution": {
     "iopub.execute_input": "2021-01-14T23:12:37.641525Z",
     "iopub.status.busy": "2021-01-14T23:12:37.640712Z",
     "iopub.status.idle": "2021-01-14T23:12:42.417625Z",
     "shell.execute_reply": "2021-01-14T23:12:42.416596Z"
    },
    "papermill": {
     "duration": 8.709659,
     "end_time": "2021-01-14T23:12:42.417730",
     "exception": false,
     "start_time": "2021-01-14T23:12:33.708071",
     "status": "completed"
    },
    "tags": []
   },
   "outputs": [
    {
     "name": "stdout",
     "output_type": "stream",
     "text": [
      "2067/2067 [==============================] - 5s 2ms/step - loss: 0.4796 - recall: 0.8125\n"
     ]
    },
    {
     "data": {
      "text/plain": [
       "[0.47963666915893555, 0.8125227093696594]"
      ]
     },
     "execution_count": 35,
     "metadata": {},
     "output_type": "execute_result"
    }
   ],
   "source": [
    "# Evaluate our model in test data\n",
    "model.evaluate(X_test,y_test)"
   ]
  },
  {
   "cell_type": "markdown",
   "metadata": {
    "papermill": {
     "duration": 4.257299,
     "end_time": "2021-01-14T23:12:50.592453",
     "exception": false,
     "start_time": "2021-01-14T23:12:46.335154",
     "status": "completed"
    },
    "tags": []
   },
   "source": [
    "#### Confusion Matrix"
   ]
  },
  {
   "cell_type": "code",
   "execution_count": 36,
   "metadata": {
    "execution": {
     "iopub.execute_input": "2021-01-14T23:12:59.203048Z",
     "iopub.status.busy": "2021-01-14T23:12:59.202287Z",
     "iopub.status.idle": "2021-01-14T23:13:02.078761Z",
     "shell.execute_reply": "2021-01-14T23:13:02.078306Z"
    },
    "papermill": {
     "duration": 6.923959,
     "end_time": "2021-01-14T23:13:02.078860",
     "exception": false,
     "start_time": "2021-01-14T23:12:55.154901",
     "status": "completed"
    },
    "tags": []
   },
   "outputs": [
    {
     "data": {
      "text/plain": [
       "[1, 0, 0, 0, 0]"
      ]
     },
     "execution_count": 36,
     "metadata": {},
     "output_type": "execute_result"
    }
   ],
   "source": [
    "y_predicted = [1 if y >= 0.5 else 0 for y in model.predict(X_test).flatten()]\n",
    "y_predicted[:5]"
   ]
  },
  {
   "cell_type": "code",
   "execution_count": 37,
   "metadata": {
    "execution": {
     "iopub.execute_input": "2021-01-14T23:13:09.945572Z",
     "iopub.status.busy": "2021-01-14T23:13:09.944726Z",
     "iopub.status.idle": "2021-01-14T23:13:10.072760Z",
     "shell.execute_reply": "2021-01-14T23:13:10.072322Z"
    },
    "papermill": {
     "duration": 4.039615,
     "end_time": "2021-01-14T23:13:10.072856",
     "exception": false,
     "start_time": "2021-01-14T23:13:06.033241",
     "status": "completed"
    },
    "tags": []
   },
   "outputs": [
    {
     "data": {
      "text/plain": [
       "array([[25114,  7947],\n",
       "       [ 6198, 26862]])"
      ]
     },
     "execution_count": 37,
     "metadata": {},
     "output_type": "execute_result"
    }
   ],
   "source": [
    "confusion_matrix_result = confusion_matrix(y_test,y_predicted)\n",
    "confusion_matrix_result"
   ]
  },
  {
   "cell_type": "code",
   "execution_count": 38,
   "metadata": {
    "execution": {
     "iopub.execute_input": "2021-01-14T23:13:18.349581Z",
     "iopub.status.busy": "2021-01-14T23:13:18.347148Z",
     "iopub.status.idle": "2021-01-14T23:13:18.498614Z",
     "shell.execute_reply": "2021-01-14T23:13:18.499055Z"
    },
    "papermill": {
     "duration": 4.169922,
     "end_time": "2021-01-14T23:13:18.499209",
     "exception": false,
     "start_time": "2021-01-14T23:13:14.329287",
     "status": "completed"
    },
    "tags": []
   },
   "outputs": [
    {
     "data": {
      "image/png": "[encoded data removed]",
      "text/plain": [
       "<Figure size 576x432 with 2 Axes>"
      ]
     },
     "metadata": {
      "needs_background": "light"
     },
     "output_type": "display_data"
    }
   ],
   "source": [
    "labels = ['Not required','Required']\n",
    "plt.figure(figsize=(8,6))\n",
    "sns.heatmap(confusion_matrix_result,annot=True,cmap='Reds',fmt='.0f',xticklabels=labels,yticklabels=labels)\n",
    "plt.title('ICU admission')\n",
    "plt.xlabel('Predicted values')\n",
    "plt.ylabel('Actual values')\n",
    "plt.show()"
   ]
  },
  {
   "cell_type": "markdown",
   "metadata": {
    "papermill": {
     "duration": 3.936599,
     "end_time": "2021-01-14T23:13:26.680983",
     "exception": false,
     "start_time": "2021-01-14T23:13:22.744384",
     "status": "completed"
    },
    "tags": []
   },
   "source": [
    "#### Classification Report"
   ]
  },
  {
   "cell_type": "code",
   "execution_count": 39,
   "metadata": {
    "execution": {
     "iopub.execute_input": "2021-01-14T23:13:35.345072Z",
     "iopub.status.busy": "2021-01-14T23:13:35.344275Z",
     "iopub.status.idle": "2021-01-14T23:13:35.487073Z",
     "shell.execute_reply": "2021-01-14T23:13:35.487539Z"
    },
    "papermill": {
     "duration": 4.859604,
     "end_time": "2021-01-14T23:13:35.487663",
     "exception": false,
     "start_time": "2021-01-14T23:13:30.628059",
     "status": "completed"
    },
    "tags": []
   },
   "outputs": [
    {
     "name": "stdout",
     "output_type": "stream",
     "text": [
      "              precision    recall  f1-score   support\n",
      "\n",
      "           0       0.80      0.76      0.78     33061\n",
      "           1       0.77      0.81      0.79     33060\n",
      "\n",
      "    accuracy                           0.79     66121\n",
      "   macro avg       0.79      0.79      0.79     66121\n",
      "weighted avg       0.79      0.79      0.79     66121\n",
      "\n"
     ]
    }
   ],
   "source": [
    "classification_report_result = classification_report(y_test,y_predicted)\n",
    "print(classification_report_result)"
   ]
  },
  {
   "cell_type": "markdown",
   "metadata": {
    "papermill": {
     "duration": 3.903583,
     "end_time": "2021-01-14T23:13:43.333426",
     "exception": false,
     "start_time": "2021-01-14T23:13:39.429843",
     "status": "completed"
    },
    "tags": []
   },
   "source": [
    "# Saving the model\n",
    "\n",
    "* Save the model\n",
    "* Load model and evaluate recall"
   ]
  },
  {
   "cell_type": "markdown",
   "metadata": {
    "papermill": {
     "duration": 4.169345,
     "end_time": "2021-01-14T23:13:51.731301",
     "exception": false,
     "start_time": "2021-01-14T23:13:47.561956",
     "status": "completed"
    },
    "tags": []
   },
   "source": [
    "### Save the model"
   ]
  },
  {
   "cell_type": "code",
   "execution_count": 40,
   "metadata": {
    "execution": {
     "iopub.execute_input": "2021-01-14T23:14:00.439898Z",
     "iopub.status.busy": "2021-01-14T23:14:00.439006Z",
     "iopub.status.idle": "2021-01-14T23:14:00.528993Z",
     "shell.execute_reply": "2021-01-14T23:14:00.528536Z"
    },
    "papermill": {
     "duration": 4.421047,
     "end_time": "2021-01-14T23:14:00.529096",
     "exception": false,
     "start_time": "2021-01-14T23:13:56.108049",
     "status": "completed"
    },
    "tags": []
   },
   "outputs": [],
   "source": [
    "model.save('/kaggle/working/icu_requirement_prediction_model.h5')"
   ]
  },
  {
   "cell_type": "markdown",
   "metadata": {
    "papermill": {
     "duration": 4.208468,
     "end_time": "2021-01-14T23:14:09.224713",
     "exception": false,
     "start_time": "2021-01-14T23:14:05.016245",
     "status": "completed"
    },
    "tags": []
   },
   "source": [
    "### Load model and evaluate recall"
   ]
  },
  {
   "cell_type": "code",
   "execution_count": 41,
   "metadata": {
    "execution": {
     "iopub.execute_input": "2021-01-14T23:14:17.375129Z",
     "iopub.status.busy": "2021-01-14T23:14:17.374163Z",
     "iopub.status.idle": "2021-01-14T23:14:17.660458Z",
     "shell.execute_reply": "2021-01-14T23:14:17.659949Z"
    },
    "papermill": {
     "duration": 4.463418,
     "end_time": "2021-01-14T23:14:17.660583",
     "exception": false,
     "start_time": "2021-01-14T23:14:13.197165",
     "status": "completed"
    },
    "tags": []
   },
   "outputs": [
    {
     "name": "stdout",
     "output_type": "stream",
     "text": [
      "Model: \"sequential\"\n",
      "_________________________________________________________________\n",
      "Layer (type)                 Output Shape              Param #   \n",
      "=================================================================\n",
      "dense (Dense)                (None, 40)                760       \n",
      "_________________________________________________________________\n",
      "dense_1 (Dense)              (None, 40)                1640      \n",
      "_________________________________________________________________\n",
      "dense_2 (Dense)              (None, 40)                1640      \n",
      "_________________________________________________________________\n",
      "dense_3 (Dense)              (None, 80)                3280      \n",
      "_________________________________________________________________\n",
      "dense_4 (Dense)              (None, 80)                6480      \n",
      "_________________________________________________________________\n",
      "dense_5 (Dense)              (None, 80)                6480      \n",
      "_________________________________________________________________\n",
      "dense_6 (Dense)              (None, 160)               12960     \n",
      "_________________________________________________________________\n",
      "dense_7 (Dense)              (None, 160)               25760     \n",
      "_________________________________________________________________\n",
      "dense_8 (Dense)              (None, 160)               25760     \n",
      "_________________________________________________________________\n",
      "dense_9 (Dense)              (None, 160)               25760     \n",
      "_________________________________________________________________\n",
      "dense_10 (Dense)             (None, 80)                12880     \n",
      "_________________________________________________________________\n",
      "dense_11 (Dense)             (None, 80)                6480      \n",
      "_________________________________________________________________\n",
      "dense_12 (Dense)             (None, 80)                6480      \n",
      "_________________________________________________________________\n",
      "dense_13 (Dense)             (None, 40)                3240      \n",
      "_________________________________________________________________\n",
      "dense_14 (Dense)             (None, 40)                1640      \n",
      "_________________________________________________________________\n",
      "dense_15 (Dense)             (None, 40)                1640      \n",
      "_________________________________________________________________\n",
      "dense_16 (Dense)             (None, 1)                 41        \n",
      "=================================================================\n",
      "Total params: 142,921\n",
      "Trainable params: 142,921\n",
      "Non-trainable params: 0\n",
      "_________________________________________________________________\n"
     ]
    }
   ],
   "source": [
    "loaded_model = tf.keras.models.load_model('./icu_requirement_prediction_model.h5')\n",
    "loaded_model.summary()"
   ]
  },
  {
   "cell_type": "code",
   "execution_count": 42,
   "metadata": {
    "execution": {
     "iopub.execute_input": "2021-01-14T23:14:25.605230Z",
     "iopub.status.busy": "2021-01-14T23:14:25.604470Z",
     "iopub.status.idle": "2021-01-14T23:14:28.073706Z",
     "shell.execute_reply": "2021-01-14T23:14:28.074724Z"
    },
    "papermill": {
     "duration": 6.426067,
     "end_time": "2021-01-14T23:14:28.074897",
     "exception": false,
     "start_time": "2021-01-14T23:14:21.648830",
     "status": "completed"
    },
    "tags": []
   },
   "outputs": [
    {
     "name": "stdout",
     "output_type": "stream",
     "text": [
      "Loaded model recall score: 0.8125226860254083\n"
     ]
    }
   ],
   "source": [
    "loaded_model_y_predicted = [1 if y >= 0.5 else 0 for y in loaded_model.predict(X_test).flatten()]\n",
    "\n",
    "print('Loaded model recall score:',recall_score(y_test,loaded_model_y_predicted))"
   ]
  },
  {
   "cell_type": "markdown",
   "metadata": {
    "papermill": {
     "duration": 4.524256,
     "end_time": "2021-01-14T23:14:36.666310",
     "exception": false,
     "start_time": "2021-01-14T23:14:32.142054",
     "status": "completed"
    },
    "tags": []
   },
   "source": [
    "### If you like this kernel, please upvote!"
   ]
  }
 ],
 "metadata": {
  "kernelspec": {
   "display_name": "Python 3",
   "language": "python",
   "name": "python3"
  },
  "language_info": {
   "codemirror_mode": {
    "name": "ipython",
    "version": 3
   },
   "file_extension": ".py",
   "mimetype": "text/x-python",
   "name": "python",
   "nbconvert_exporter": "python",
   "pygments_lexer": "ipython3",
   "version": "3.7.9"
  },
  "papermill": {
   "duration": 1069.338559,
   "end_time": "2021-01-14T23:14:42.611654",
   "environment_variables": {},
   "exception": null,
   "input_path": "__notebook__.ipynb",
   "output_path": "__notebook__.ipynb",
   "parameters": {},
   "start_time": "2021-01-14T22:56:53.273095",
   "version": "2.1.0"
  }
 },
 "nbformat": 4,
 "nbformat_minor": 4
}
